{
  "nbformat": 4,
  "nbformat_minor": 0,
  "metadata": {
    "colab": {
      "provenance": []
    },
    "kernelspec": {
      "name": "python3",
      "display_name": "Python 3"
    },
    "language_info": {
      "name": "python"
    }
  },
  "cells": [
    {
      "cell_type": "markdown",
      "source": [
        "1.\tWrite a Python program to sum all the elements in a list.\n",
        "2.\tWrite a Python program to find the largest element in a list.\n",
        "3.\tWrite a Python program to count the number of elements in a list.\n",
        "4.\tWrite a Python program to find the average of elements in a list.\n",
        "5.\tWrite a Python program to reverse a list.\n",
        "6.\tWrite a Python program to check if a given element exists in a list.\n",
        "7.\tWrite a Python program to remove duplicate elements from a list.\n",
        "8.\tWrite a Python program to find the second largest element in a list.\n",
        "9.\tWrite a Python program to sort elements in a list in ascending order.\n",
        "10.\tWrite a Python program to merge two lists and sort them.\n",
        "11.\tQuestion: Given a nested list nested_list_row = [[1, 2, 3], [4, 5, 6], [7, 8, 9]], how can you access the number 9 from the list? Write a Python program to achieve this.\n",
        "12.\tQuestion: Suppose you have a nested list nested_list_column = [[1, 2, 3], [4, 5, 6], [7, 8, 9]], how can you access the number 8 from the list? Write a Python program to achieve this.\n",
        "13.\tQuestion: How can you access the number 100 from the nested list nested_list_column = [[1, 2, 3], [4, 5, 6], [7, 8, 9],[1,55,77,100]]?\n",
        "14.\tQuestion: How can you access the number 100 from the nested list nested_list_column = [[1, 2, 3], [4, 5, 6], [7, 8, 9], [1,55,77,100]] using negative indexing?"
      ],
      "metadata": {
        "id": "NpdCla2yk4fY"
      }
    },
    {
      "cell_type": "code",
      "execution_count": null,
      "metadata": {
        "colab": {
          "base_uri": "https://localhost:8080/"
        },
        "id": "STWWDNmSkr4k",
        "outputId": "e689826d-0740-494d-b314-2d2d79c222a3"
      },
      "outputs": [
        {
          "output_type": "stream",
          "name": "stdout",
          "text": [
            "Sum is  42\n"
          ]
        }
      ],
      "source": [
        "# 1. Write a Python program to sum all the elements in a list.\n",
        "list1=[1,3,4,6,13,15]\n",
        "print(\"Sum is \",sum(list1))"
      ]
    },
    {
      "cell_type": "code",
      "source": [
        "# 2. Write a Python program to find the largest element in a list.\n",
        "print(\"Largest Element is\",max(list1))"
      ],
      "metadata": {
        "colab": {
          "base_uri": "https://localhost:8080/"
        },
        "id": "RLoZh8cllIl7",
        "outputId": "34cf1052-d1d2-474b-8a53-a3c30a0d31ed"
      },
      "execution_count": null,
      "outputs": [
        {
          "output_type": "stream",
          "name": "stdout",
          "text": [
            "Largest Element is 15\n"
          ]
        }
      ]
    },
    {
      "cell_type": "code",
      "source": [
        "# 3. Write a Python program to count the number of elements in a list.\n",
        "print(\"Number of Elemnts is\",len(list1))"
      ],
      "metadata": {
        "colab": {
          "base_uri": "https://localhost:8080/"
        },
        "id": "RBe_S25AlWbt",
        "outputId": "a1e850b7-5cbf-42bb-ef9d-9d2e5836668c"
      },
      "execution_count": null,
      "outputs": [
        {
          "output_type": "stream",
          "name": "stdout",
          "text": [
            "Number of Elemnts is 6\n"
          ]
        }
      ]
    },
    {
      "cell_type": "code",
      "source": [
        "# 4. Write a Python program to find the average of elements in a list.\n",
        "average=sum(list1)/len(list1)\n",
        "print(\"Average is\",average)"
      ],
      "metadata": {
        "colab": {
          "base_uri": "https://localhost:8080/"
        },
        "id": "IXsXOUj4ljhk",
        "outputId": "1eed820c-367b-418b-804e-aeea7ea87f14"
      },
      "execution_count": null,
      "outputs": [
        {
          "output_type": "stream",
          "name": "stdout",
          "text": [
            "Average is 7.0\n"
          ]
        }
      ]
    },
    {
      "cell_type": "code",
      "source": [
        "# 5. Write a Python program to reverse a list.\n",
        "print(list1)\n",
        "print(list1[::-1])"
      ],
      "metadata": {
        "colab": {
          "base_uri": "https://localhost:8080/"
        },
        "id": "F_MeUMBtl8CT",
        "outputId": "a43f7173-42de-4ff9-d816-5d5a8ee36e32"
      },
      "execution_count": null,
      "outputs": [
        {
          "output_type": "stream",
          "name": "stdout",
          "text": [
            "[1, 3, 4, 6, 13, 15]\n",
            "[15, 13, 6, 4, 3, 1]\n"
          ]
        }
      ]
    },
    {
      "cell_type": "code",
      "source": [
        " # 6. Write a Python program to check if a given element exists in a list.\n",
        " element = 13\n",
        " print(\"Does the element exist? -\",element in list1)"
      ],
      "metadata": {
        "colab": {
          "base_uri": "https://localhost:8080/"
        },
        "id": "x0v9Pgp7mKlC",
        "outputId": "2533dfb7-3eae-4271-813f-80c73e8f7971"
      },
      "execution_count": null,
      "outputs": [
        {
          "output_type": "stream",
          "name": "stdout",
          "text": [
            "Does the element exist? - True\n"
          ]
        }
      ]
    },
    {
      "cell_type": "code",
      "source": [
        "# 7. Write a Python program to remove duplicate elements from a list.\n",
        "list2=[1,2,34,4,5,6,5,2]\n",
        "unique_list2=set(list2)\n",
        "ulist2=list(unique_list2)\n",
        "print(ulist2)"
      ],
      "metadata": {
        "colab": {
          "base_uri": "https://localhost:8080/"
        },
        "id": "GHx6rNELm0BU",
        "outputId": "2315b25f-2094-4ebf-a5de-9f422d27c927"
      },
      "execution_count": null,
      "outputs": [
        {
          "output_type": "stream",
          "name": "stdout",
          "text": [
            "[1, 2, 34, 4, 5, 6]\n"
          ]
        }
      ]
    },
    {
      "cell_type": "code",
      "source": [
        "# 8. Write a Python program to find the second largest element in a list.\n",
        "print(list2)\n",
        "slist2=sorted(list2,reverse=True)\n",
        "print(slist2)\n",
        "print(\"Second Largest Element is\",slist2[1])"
      ],
      "metadata": {
        "colab": {
          "base_uri": "https://localhost:8080/"
        },
        "id": "GjtV7QeYn2hZ",
        "outputId": "f5459f1f-0062-4df0-85b7-28256538ce2c"
      },
      "execution_count": null,
      "outputs": [
        {
          "output_type": "stream",
          "name": "stdout",
          "text": [
            "[1, 2, 34, 4, 5, 6, 5, 2]\n",
            "[34, 6, 5, 5, 4, 2, 2, 1]\n",
            "Second Largest Element is 6\n"
          ]
        }
      ]
    },
    {
      "cell_type": "code",
      "source": [
        "# 9. Write a Python program to sort elements in a list in ascending order.\n",
        "print(list2)\n",
        "print(\"Ascending Order\",sorted(list2))\n"
      ],
      "metadata": {
        "colab": {
          "base_uri": "https://localhost:8080/"
        },
        "id": "V1TgKflOpMOx",
        "outputId": "c55c5448-4a77-450e-82d2-48dff70f0314"
      },
      "execution_count": null,
      "outputs": [
        {
          "output_type": "stream",
          "name": "stdout",
          "text": [
            "[1, 2, 34, 4, 5, 6, 5, 2]\n",
            "Ascending Order [1, 2, 2, 4, 5, 5, 6, 34]\n"
          ]
        }
      ]
    },
    {
      "cell_type": "code",
      "source": [
        "# 10. Write a Python program to merge two lists and sort them.\n",
        "list3=list1+ulist2\n",
        "print(list3)\n",
        "print(\"Sorted List :\",sorted(list3))"
      ],
      "metadata": {
        "colab": {
          "base_uri": "https://localhost:8080/"
        },
        "id": "ewaYhMcdpb4R",
        "outputId": "dab589fd-7320-4b32-9835-c51bde222789"
      },
      "execution_count": null,
      "outputs": [
        {
          "output_type": "stream",
          "name": "stdout",
          "text": [
            "[1, 3, 4, 6, 13, 15, 1, 2, 34, 4, 5, 6]\n",
            "Sorted List : [1, 1, 2, 3, 4, 4, 5, 6, 6, 13, 15, 34]\n"
          ]
        }
      ]
    },
    {
      "cell_type": "code",
      "source": [
        "# 11. Given a nested list nested_list_row = [[1, 2, 3], [4, 5, 6], [7, 8, 9]], how can you access the number 9 from the list? Write a Python program to achieve this.\n",
        "list4=  [[1, 2, 3], [4, 5, 6], [7, 8, 9]]\n",
        "print(list4)\n",
        "print(\"Access number 9- list4[2][2] :\",list4[2][2])"
      ],
      "metadata": {
        "colab": {
          "base_uri": "https://localhost:8080/"
        },
        "id": "nyjk36ogqFZf",
        "outputId": "c08cd664-c941-4262-c279-b05dcc64b149"
      },
      "execution_count": null,
      "outputs": [
        {
          "output_type": "stream",
          "name": "stdout",
          "text": [
            "[[1, 2, 3], [4, 5, 6], [7, 8, 9]]\n",
            "Access number 9- list4[2][2] : 9\n"
          ]
        }
      ]
    },
    {
      "cell_type": "code",
      "source": [
        "# 12. Suppose you have a nested list nested_list_column = [[1, 2, 3], [4, 5, 6], [7, 8, 9]],\n",
        "# how can you access the number 8 from the list? Write a Python program to achieve this.\n",
        "print(list4)\n",
        "print(\"Access number 8 - list4[2][1] :\",list4[2][1])"
      ],
      "metadata": {
        "colab": {
          "base_uri": "https://localhost:8080/"
        },
        "id": "hL_9s8EfqkZ1",
        "outputId": "48d6cb11-cc00-48e2-cc1f-692439930b6c"
      },
      "execution_count": null,
      "outputs": [
        {
          "output_type": "stream",
          "name": "stdout",
          "text": [
            "[[1, 2, 3], [4, 5, 6], [7, 8, 9]]\n",
            "Access number 8 - list4[2][1] : 8\n"
          ]
        }
      ]
    },
    {
      "cell_type": "code",
      "source": [
        "# 13. How can you access the number 100 from the nested list nested_list_column = [[1, 2, 3], [4, 5, 6], [7, 8, 9],[1,55,77,100]]?\n",
        "list5= [[1, 2, 3], [4, 5, 6], [7, 8, 9],[1,55,77,100]]\n",
        "print(list5)\n",
        "print(\"Access number 100 - list5[3][3] :\",list5[3][3])"
      ],
      "metadata": {
        "colab": {
          "base_uri": "https://localhost:8080/"
        },
        "id": "0-lmXIWRq5PH",
        "outputId": "ec1da0dd-82d1-410d-9c2a-a9b446367118"
      },
      "execution_count": null,
      "outputs": [
        {
          "output_type": "stream",
          "name": "stdout",
          "text": [
            "[[1, 2, 3], [4, 5, 6], [7, 8, 9], [1, 55, 77, 100]]\n",
            "Access number 100 - list5[3][3] : 100\n"
          ]
        }
      ]
    },
    {
      "cell_type": "code",
      "source": [
        "# 14. How can you access the number 100 from the nested list nested_list_column = [[1, 2, 3], [4, 5, 6], [7, 8, 9, [1,55,77,100]] using negative indexing?\n",
        "list5= [[1, 2, 3], [4, 5, 6], [7, 8, 9],[1,55,77,100]]\n",
        "print(list5)\n",
        "print(\"Access number 100 using negative indexing - list5[-1][-1] :\",list5[-1][-1])"
      ],
      "metadata": {
        "colab": {
          "base_uri": "https://localhost:8080/"
        },
        "id": "HWQV85qArger",
        "outputId": "dbefab4a-328d-4e63-d549-e740080e0b1f"
      },
      "execution_count": null,
      "outputs": [
        {
          "output_type": "stream",
          "name": "stdout",
          "text": [
            "[[1, 2, 3], [4, 5, 6], [7, 8, 9], [1, 55, 77, 100]]\n",
            "Access number 100 using negative indexing - list5[-1][-1] : 100\n"
          ]
        }
      ]
    },
    {
      "cell_type": "code",
      "source": [],
      "metadata": {
        "id": "xWgurv7oryM3"
      },
      "execution_count": null,
      "outputs": []
    }
  ]
}