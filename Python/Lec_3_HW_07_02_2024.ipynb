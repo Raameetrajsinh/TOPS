{
  "nbformat": 4,
  "nbformat_minor": 0,
  "metadata": {
    "colab": {
      "provenance": []
    },
    "kernelspec": {
      "name": "python3",
      "display_name": "Python 3"
    },
    "language_info": {
      "name": "python"
    }
  },
  "cells": [
    {
      "cell_type": "markdown",
      "source": [
        "Q1 Write a Python program that accepts a string from user. Your program should create and display a new string where the first and last characters have been exchanged.\n",
        "\n",
        "For example if the user enters the string 'HELLO' then new string would be 'OELLH'"
      ],
      "metadata": {
        "id": "R7YYTlRTJGnu"
      }
    },
    {
      "cell_type": "code",
      "execution_count": null,
      "metadata": {
        "id": "xUgKDWcJJBwb",
        "colab": {
          "base_uri": "https://localhost:8080/"
        },
        "outputId": "388ebf3e-4c09-4c1c-f865-0321b932837f"
      },
      "outputs": [
        {
          "output_type": "stream",
          "name": "stdout",
          "text": [
            "Enter String: HELLO\n",
            "OLLEH\n"
          ]
        }
      ],
      "source": [
        "string=input(\"Enter String: \")\n",
        "nstring=string[::-1]\n",
        "print(nstring)"
      ]
    },
    {
      "cell_type": "markdown",
      "source": [
        "Q2 Write a Python program that accepts a string from user. Your program should create a new string in reverse of first string and display it.\n",
        "\n",
        "For example if the user enters the string 'EXAM' then new string would be 'MAXE'"
      ],
      "metadata": {
        "id": "KlBKKZUfJLWy"
      }
    },
    {
      "cell_type": "code",
      "source": [
        "string2=input(\"Enter String: \")\n",
        "nstring2=string2[::-1]\n",
        "print(nstring2)"
      ],
      "metadata": {
        "id": "rGdKcBseJF_c",
        "colab": {
          "base_uri": "https://localhost:8080/"
        },
        "outputId": "d2be9b71-d9d6-4e3e-945d-edc426493df6"
      },
      "execution_count": null,
      "outputs": [
        {
          "output_type": "stream",
          "name": "stdout",
          "text": [
            "Enter String: EXAM\n",
            "MAXE\n"
          ]
        }
      ]
    },
    {
      "cell_type": "markdown",
      "source": [
        "Q3 Write a Python program that accepts a string from user. Your program should create a new string by shifting one position to left.\n",
        "\n",
        "For example if the user enters the string 'examination 2021' then new string would be 'xamination 2021e'"
      ],
      "metadata": {
        "id": "vI6h0j6EJXN7"
      }
    },
    {
      "cell_type": "code",
      "source": [
        "string3=input(\"Enter String: \")\n",
        "nstring3=string3[1:]+string3[0]\n",
        "print(nstring3)"
      ],
      "metadata": {
        "id": "X_yXSRYhJhyV",
        "colab": {
          "base_uri": "https://localhost:8080/"
        },
        "outputId": "862a7d33-e4f5-4c3c-b829-0c6cb2c6ee2f"
      },
      "execution_count": null,
      "outputs": [
        {
          "output_type": "stream",
          "name": "stdout",
          "text": [
            "Enter String: examination 2021\n",
            "xamination 2021e\n"
          ]
        }
      ]
    },
    {
      "cell_type": "markdown",
      "source": [
        "Q4 Write a Python program to calculate the length of a string."
      ],
      "metadata": {
        "id": "RcpZlQ1uJiHH"
      }
    },
    {
      "cell_type": "code",
      "source": [
        "string4=\"MEETRAJSINH CHUDASAMA\"\n",
        "print(len(string4))"
      ],
      "metadata": {
        "id": "tYfZmeLw1J9R",
        "colab": {
          "base_uri": "https://localhost:8080/"
        },
        "outputId": "de408897-abd1-469c-abf7-a76a2a9d88c3"
      },
      "execution_count": null,
      "outputs": [
        {
          "output_type": "stream",
          "name": "stdout",
          "text": [
            "21\n"
          ]
        }
      ]
    },
    {
      "cell_type": "markdown",
      "source": [
        "Q5 Write a Python program to get a string made of the first 2 and last 2 characters of a given string. If the string length is less than 2, return the empty string instead.\n",
        "Sample String : 'w3resource'\n",
        "Expected Result : 'w3ce'\n",
        "Sample String : 'w3'\n",
        "Expected Result : 'w3w3'\n",
        "Sample String : ' w'\n",
        "Expected Result : Empty String"
      ],
      "metadata": {
        "id": "kZ-tq4KG1KtZ"
      }
    },
    {
      "cell_type": "code",
      "source": [
        "string5=input(\"Enter String : \")\n",
        "if len(string5)<2:\n",
        "  nstring5=\"\"\n",
        "else:\n",
        "  nstring5=string5[0:2]+string5[-2:]\n",
        "print(nstring5)"
      ],
      "metadata": {
        "id": "k1UDXqBy1dlb",
        "colab": {
          "base_uri": "https://localhost:8080/"
        },
        "outputId": "350d9469-b6d4-47df-8d07-440e65c39d81"
      },
      "execution_count": null,
      "outputs": [
        {
          "output_type": "stream",
          "name": "stdout",
          "text": [
            "Enter String : w3resource\n",
            "w3ce\n"
          ]
        }
      ]
    },
    {
      "cell_type": "markdown",
      "source": [
        "Q6 Write a Python program to add 'ing' at the end of a given string (length should be at least 3). If the given string already ends with 'ing', add 'ly' instead. If the string length of the given string is less than 3, leave it unchanged.\n",
        "Sample String : 'abc'\n",
        "Expected Result : 'abcing'\n",
        "Sample String : 'string'\n",
        "Expected Result : 'stringly'"
      ],
      "metadata": {
        "id": "fLmjxBVH1dv7"
      }
    },
    {
      "cell_type": "code",
      "source": [
        "string6=input(\"Enter String : \")\n",
        "if len(string6)<3:\n",
        "  nstring6= string6\n",
        "else:\n",
        "  if string6[-3:]==\"ing\":\n",
        "    nstring6=string6+'ly'\n",
        "  else:\n",
        "    nstring6=string6+'ing'\n",
        "print(nstring6)"
      ],
      "metadata": {
        "id": "aDBLGj7o1xDG",
        "colab": {
          "base_uri": "https://localhost:8080/"
        },
        "outputId": "f6d86251-f470-4c49-a29b-2459d4cbb603"
      },
      "execution_count": null,
      "outputs": [
        {
          "output_type": "stream",
          "name": "stdout",
          "text": [
            "Enter String : string\n",
            "stringly\n"
          ]
        }
      ]
    },
    {
      "cell_type": "markdown",
      "source": [
        "Q7 Write a Python program to remove the nth index character from a nonempty string."
      ],
      "metadata": {
        "id": "Ni87_gWx1yAM"
      }
    },
    {
      "cell_type": "code",
      "source": [
        "string7='MEETRAJSINH'\n",
        "n=int(input(\"Enter Index : \"))\n",
        "nstring7= string7[0:n]+string7[n+1:]\n",
        "print(nstring7)"
      ],
      "metadata": {
        "id": "qQKUKvze2Kz0",
        "colab": {
          "base_uri": "https://localhost:8080/"
        },
        "outputId": "d983b941-cd35-41f5-a136-ec580521012d"
      },
      "execution_count": null,
      "outputs": [
        {
          "output_type": "stream",
          "name": "stdout",
          "text": [
            "Enter Index : 6\n",
            "MEETRASINH\n"
          ]
        }
      ]
    },
    {
      "cell_type": "markdown",
      "source": [
        "Q8 Write a Python program to change a given string to a newly string where the first and last chars have been exchanged."
      ],
      "metadata": {
        "id": "JV7rvO032LvA"
      }
    },
    {
      "cell_type": "code",
      "source": [
        "string8 = input(\"Enter String: \")\n",
        "nstring8 = string8[-1]+string8[1:-1]+string8[0]\n",
        "print(nstring8)"
      ],
      "metadata": {
        "id": "OnyZ4Qms2TTJ",
        "colab": {
          "base_uri": "https://localhost:8080/"
        },
        "outputId": "e35f7026-62b4-41b0-ad65-eb42889ca6ea"
      },
      "execution_count": null,
      "outputs": [
        {
          "output_type": "stream",
          "name": "stdout",
          "text": [
            "Enter String: string\n",
            "gtrins\n"
          ]
        }
      ]
    },
    {
      "cell_type": "markdown",
      "source": [
        "Q9 Write a Python script that takes input from the user and displays that in upper and lower cases."
      ],
      "metadata": {
        "id": "pJHJGSEt2Tk5"
      }
    },
    {
      "cell_type": "code",
      "source": [
        "string9 = input(\"Enter String : \")\n",
        "print(\"Lower Case : \", string9.lower())\n",
        "print(\"Upper Case : \", string9.upper())"
      ],
      "metadata": {
        "id": "Td98QnJk26YZ",
        "colab": {
          "base_uri": "https://localhost:8080/"
        },
        "outputId": "b4bd2180-b757-40ec-bc9b-181a5f707723"
      },
      "execution_count": null,
      "outputs": [
        {
          "output_type": "stream",
          "name": "stdout",
          "text": [
            "Enter String : Meetrajsinh Chudasama\n",
            "Lower Case :  meetrajsinh chudasama\n",
            "Upper Case :  MEETRAJSINH CHUDASAMA\n"
          ]
        }
      ]
    },
    {
      "cell_type": "markdown",
      "source": [
        "Thank You"
      ],
      "metadata": {
        "id": "eYKOjOg626sL"
      }
    }
  ]
}