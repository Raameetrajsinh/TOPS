{
  "nbformat": 4,
  "nbformat_minor": 0,
  "metadata": {
    "colab": {
      "provenance": []
    },
    "kernelspec": {
      "name": "python3",
      "display_name": "Python 3"
    },
    "language_info": {
      "name": "python"
    }
  },
  "cells": [
    {
      "cell_type": "markdown",
      "source": [
        "Question no 1: Given a tuple my_tuple = (10, 20, 30, 40, 50), how can you access the element 30 from the tuple using positive indexing? Write a Python program to achieve this.\n",
        "\n",
        "Question no 2: Suppose you have a tuple my_tuple = (15, 25, 35, 45, 55), how can you access the element 45 from the tuple using negative indexing? Write a Python program to achieve this.\n",
        "\n",
        "Question no 3: Given a tuple my_tuple = (1, 2, 3, (4, 5, 6)), how can you access the element 5 from the nested tuple within it using nested indexing? Write a Python program to achieve this.\n",
        "\n",
        "Question no 4: Suppose you have a tuple my_tuple = (10, 20, 30, 40, 50), how can you slice the tuple to obtain (20, 30, 40)? Write a Python program to achieve this.\n",
        "\n",
        "Question no 5: Given a tuple my_tuple = (1, 2, 3, 4, 5), how can you access the last element without knowing its index? Write a Python program to achieve this.\n",
        "\n",
        "Question no 6: Suppose you have two tuples tuple1 = (10, 20, 30) and tuple2 = (40, 50, 60), how can you concatenate them into a single tuple? Write a Python program to achieve this.\n",
        "\n",
        "Question no 7: Given a tuple my_tuple = ('a', 'b', 'c', 'd', 'e'), how can you check if the element 'c' exists in the tuple? Write a Python program to achieve this.\n",
        "\n",
        "Question no 8: Suppose you have a tuple my_tuple = ('apple', 'banana', 'cherry', 'apple'), how can you count the number of occurrences of 'apple' in the tuple? Write a Python program to achieve this.\n",
        "\n",
        "Question no 9: Given a tuple my_tuple = (3.14, 'hello', True, (1, 2, 3)), how can you access the nested tuple (1, 2, 3) from it? Write a Python program to achieve this.\n",
        "\n",
        "Question no 10: Suppose you have a tuple my_tuple = (10, 20, 30), how can you convert it into a list? Write a Python program to achieve this.\n",
        "\n",
        "\n",
        "\n",
        "Question no 11: Suppose you have a tuple my_tuple = (10, 20, 30, 40, 50), how can you find the smallest and largest elements in the tuple? Write a Python program to achieve this.\n",
        "\n",
        "\n",
        "\n",
        "Question no 12: Given two tuples tuple1 = (1, 2, 3) and tuple2 = (4, 5, 6), how can you check if the two tuples are equal? Write a Python program to achieve this.\n"
      ],
      "metadata": {
        "id": "KEnbWH_zmqLF"
      }
    },
    {
      "cell_type": "code",
      "execution_count": null,
      "metadata": {
        "id": "KtfIQgiOHarI",
        "colab": {
          "base_uri": "https://localhost:8080/"
        },
        "outputId": "3ec6ce4a-b4f5-4b6e-abbf-459b33ce9cbe"
      },
      "outputs": [
        {
          "output_type": "stream",
          "name": "stdout",
          "text": [
            "30\n"
          ]
        }
      ],
      "source": [
        "# Question no 1: Given a tuple my_tuple = (10, 20, 30, 40, 50), how can you access the element 30 from the tuple using positive indexing?\n",
        "# Write a Python program to achieve this.\n",
        "my_tuple = (10, 20, 30, 40, 50)\n",
        "print(my_tuple[2])"
      ]
    },
    {
      "cell_type": "code",
      "source": [
        "# Question no 2: Suppose you have a tuple my_tuple = (15, 25, 35, 45, 55), how can you access the element 45 from the tuple using negative indexing?\n",
        "# Write a Python program to achieve this.\n",
        "my_tuple2 = (15, 25, 35, 45, 55)\n",
        "print(my_tuple2[-2])"
      ],
      "metadata": {
        "colab": {
          "base_uri": "https://localhost:8080/"
        },
        "id": "AjOA-AZXIuOc",
        "outputId": "bb9bc58b-e607-4fa4-d8ea-0757004866a8"
      },
      "execution_count": null,
      "outputs": [
        {
          "output_type": "stream",
          "name": "stdout",
          "text": [
            "45\n"
          ]
        }
      ]
    },
    {
      "cell_type": "code",
      "source": [
        "# Question no 3: Given a tuple my_tuple = (1, 2, 3, (4, 5, 6)), how can you access the element 5 from the nested tuple within it using nested indexing?\n",
        "# Write a Python program to achieve this.\n",
        "my_tuple3 = (1, 2, 3, (4, 5, 6))\n",
        "print(my_tuple3[3][1])"
      ],
      "metadata": {
        "colab": {
          "base_uri": "https://localhost:8080/"
        },
        "id": "Tn6TGCEZJCA8",
        "outputId": "050ca63f-0ce6-4a27-d5a9-741b41752052"
      },
      "execution_count": null,
      "outputs": [
        {
          "output_type": "stream",
          "name": "stdout",
          "text": [
            "5\n"
          ]
        }
      ]
    },
    {
      "cell_type": "code",
      "source": [
        "# Question no 4: Suppose you have a tuple my_tuple = (10, 20, 30, 40, 50), how can you slice the tuple to obtain (20, 30, 40)?\n",
        "# Write a Python program to achieve this.\n",
        "my_tuple4 = (10, 20, 30, 40, 50)\n",
        "print(my_tuple4[1:4])"
      ],
      "metadata": {
        "colab": {
          "base_uri": "https://localhost:8080/"
        },
        "id": "bMsR8GaSJUjZ",
        "outputId": "0c867f0c-35f2-49f4-ab07-7b4b07460361"
      },
      "execution_count": null,
      "outputs": [
        {
          "output_type": "stream",
          "name": "stdout",
          "text": [
            "(20, 30, 40)\n"
          ]
        }
      ]
    },
    {
      "cell_type": "code",
      "source": [
        "# Question no 5: Given a tuple my_tuple = (1, 2, 3, 4, 5), how can you access the last element without knowing its index?\n",
        "# Write a Python program to achieve this.\n",
        "my_tuple5 = (1, 2, 3, 4, 5)\n",
        "print(my_tuple5[-1])"
      ],
      "metadata": {
        "colab": {
          "base_uri": "https://localhost:8080/"
        },
        "id": "Ao9soiqnJl43",
        "outputId": "9eebcf8f-d637-405b-a2ec-d497c919573f"
      },
      "execution_count": null,
      "outputs": [
        {
          "output_type": "stream",
          "name": "stdout",
          "text": [
            "5\n"
          ]
        }
      ]
    },
    {
      "cell_type": "code",
      "source": [
        "# Question no 6: Suppose you have two tuples tuple1 = (10, 20, 30) and tuple2 = (40, 50, 60), how can you concatenate them into a single tuple?\n",
        "# Write a Python program to achieve this.\n",
        "tuple6_1 = (10, 20, 30)\n",
        "tuple6_2 = (40, 50, 60)\n",
        "tuple6= tuple6_1+tuple6_2\n",
        "print(tuple6)"
      ],
      "metadata": {
        "colab": {
          "base_uri": "https://localhost:8080/"
        },
        "id": "uT2jxSBtJ3Wg",
        "outputId": "5d0131d6-c429-4dba-dbb4-55e234e2591a"
      },
      "execution_count": null,
      "outputs": [
        {
          "output_type": "stream",
          "name": "stdout",
          "text": [
            "(10, 20, 30, 40, 50, 60)\n"
          ]
        }
      ]
    },
    {
      "cell_type": "code",
      "source": [
        "# Question no 7: Given a tuple my_tuple = ('a', 'b', 'c', 'd', 'e'), how can you check if the element 'c' exists in the tuple?\n",
        "# Write a Python program to achieve this.\n",
        "my_tuple7 = ('a', 'b', 'c', 'd', 'e')\n",
        "print( 'c' in my_tuple7)"
      ],
      "metadata": {
        "colab": {
          "base_uri": "https://localhost:8080/"
        },
        "id": "TwL1qLfOKhgb",
        "outputId": "8c200206-7d8f-449c-e2e6-22d8f83f9aea"
      },
      "execution_count": null,
      "outputs": [
        {
          "output_type": "stream",
          "name": "stdout",
          "text": [
            "True\n"
          ]
        }
      ]
    },
    {
      "cell_type": "code",
      "source": [
        "# Question no 8: Suppose you have a tuple my_tuple = ('apple', 'banana', 'cherry', 'apple'), how can you count the number of occurrences of 'apple' in the tuple?\n",
        "#  Write a Python program to achieve this.\n",
        "my_tuple8 = ('apple', 'banana', 'cherry', 'apple')\n",
        "print(\"Number of Occurences of Apple is\",my_tuple8.count('apple'))"
      ],
      "metadata": {
        "colab": {
          "base_uri": "https://localhost:8080/"
        },
        "id": "ZeXosKJyLAOO",
        "outputId": "d05f42ac-1da6-4bf4-a88a-4411f92a614d"
      },
      "execution_count": null,
      "outputs": [
        {
          "output_type": "stream",
          "name": "stdout",
          "text": [
            "Number of Occurences of Apple is 2\n"
          ]
        }
      ]
    },
    {
      "cell_type": "code",
      "source": [
        "# Question no 9: Given a tuple my_tuple = (3.14, 'hello', True, (1, 2, 3)), how can you access the nested tuple (1, 2, 3) from it?\n",
        "# Write a Python program to achieve this.\n",
        "my_tuple9 = (3.14, 'hello', True, (1, 2, 3))\n",
        "print(my_tuple9[3])"
      ],
      "metadata": {
        "colab": {
          "base_uri": "https://localhost:8080/"
        },
        "id": "Mt0KVx4JLWz5",
        "outputId": "ff5f13af-f814-4992-86e8-0dd17a5e0b53"
      },
      "execution_count": null,
      "outputs": [
        {
          "output_type": "stream",
          "name": "stdout",
          "text": [
            "(1, 2, 3)\n"
          ]
        }
      ]
    },
    {
      "cell_type": "code",
      "source": [
        "# Question no 10: Suppose you have a tuple my_tuple = (10, 20, 30), how can you convert it into a list?\n",
        "# Write a Python program to achieve this.\n",
        "my_tuple10 = (10, 20, 30)\n",
        "print(type(my_tuple10))\n",
        "print(my_tuple10)\n",
        "my_tuple10=list(my_tuple10)\n",
        "print(type(my_tuple10))\n",
        "print(my_tuple10)"
      ],
      "metadata": {
        "colab": {
          "base_uri": "https://localhost:8080/"
        },
        "id": "FnNsD1FqLqYk",
        "outputId": "2bf442a3-1e04-4c1b-a284-1feb5b85c841"
      },
      "execution_count": null,
      "outputs": [
        {
          "output_type": "stream",
          "name": "stdout",
          "text": [
            "<class 'tuple'>\n",
            "(10, 20, 30)\n",
            "<class 'list'>\n",
            "[10, 20, 30]\n"
          ]
        }
      ]
    },
    {
      "cell_type": "code",
      "source": [
        "# Question no 11: Suppose you have a tuple my_tuple = (10, 20, 30, 40, 50), how can you find the smallest and largest elements in the tuple?\n",
        "# Write a Python program to achieve this.\n",
        "my_tuple11 = (10, 20, 30, 40, 50)\n",
        "print(\"Smallest Element is\",min(my_tuple11))\n",
        "print(\"Largest Element is\",max(my_tuple11))"
      ],
      "metadata": {
        "colab": {
          "base_uri": "https://localhost:8080/"
        },
        "id": "V_ISLTYBMPBd",
        "outputId": "ada20321-8ab9-480d-ee93-329598ab4594"
      },
      "execution_count": null,
      "outputs": [
        {
          "output_type": "stream",
          "name": "stdout",
          "text": [
            "Smallest Element is 10\n",
            "Largest Element is 50\n"
          ]
        }
      ]
    },
    {
      "cell_type": "code",
      "source": [
        "# Question no 12: Given two tuples tuple1 = (1, 2, 3) and tuple2 = (4, 5, 6), how can you check if the two tuples are equal?\n",
        "# Write a Python program to achieve this.\n",
        "tuple12_1 = (1, 2, 3)\n",
        "tuple12_2 = (4, 5, 6)\n",
        "if tuple12_1 == tuple12_2:\n",
        "  print(\"Tuple\",tuple12_1,\"and Tuple\",tuple12_2,\"are equal.\")\n",
        "else:\n",
        "  print(\"Tuple\",tuple12_1,\"and Tuple\",tuple12_2,\"are not equal.\")"
      ],
      "metadata": {
        "colab": {
          "base_uri": "https://localhost:8080/"
        },
        "id": "t8EGO4N0Moed",
        "outputId": "88e7a93c-2286-4b04-ec4e-1fb794591136"
      },
      "execution_count": null,
      "outputs": [
        {
          "output_type": "stream",
          "name": "stdout",
          "text": [
            "Tuple (1, 2, 3) and Tuple (4, 5, 6) are not equal.\n"
          ]
        }
      ]
    },
    {
      "cell_type": "code",
      "source": [],
      "metadata": {
        "id": "LZIJbG8ONZ8U"
      },
      "execution_count": null,
      "outputs": []
    }
  ]
}