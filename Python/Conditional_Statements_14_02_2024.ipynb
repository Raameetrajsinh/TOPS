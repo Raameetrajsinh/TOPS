{
  "nbformat": 4,
  "nbformat_minor": 0,
  "metadata": {
    "colab": {
      "provenance": []
    },
    "kernelspec": {
      "name": "python3",
      "display_name": "Python 3"
    },
    "language_info": {
      "name": "python"
    }
  },
  "cells": [
    {
      "cell_type": "markdown",
      "source": [
        "Simple if statements:\n",
        "\n",
        "Question 1: Write a Python program that checks if a given number is even. If it is, print \"Even number\".\n",
        "\n",
        "Question 2: Write a Python program that checks if a given string contains the letter 'a'. If it does, print \"String contains 'a'\".\n",
        "\n",
        "Question 3: Write a Python program that checks if a given year is a leap year. If it is, print \"Leap year\".\n",
        "\n",
        "Question 4: Write a Python program that checks if a given number is positive. If it is, print \"Positive number\".\n",
        "\n",
        "Question 5: Write a Python program that checks if a given character is a vowel. If it is, print \"Vowel\".\n",
        "\n",
        "Question 6: Write a Python program that checks if a given number is greater than 100. If it is, print \"Greater than 100\".\n",
        "\n",
        "Question 7: Write a Python program that checks if a given string is empty. If it is, print \"Empty string\".\n",
        "\n",
        "Question 8: Write a Python program that checks if a given number is divisible by both 5 and 7. If it is, print \"Divisible by 5 and 7\".\n",
        "\n",
        "Question 9: Write a Python program that checks if a given list contains any negative numbers. If it does, print \"List contains negative numbers\".\n",
        "\n",
        "Question 10: Write a Python program that checks if a given word is a palindrome. If it is, print \"Palindrome\".\n",
        "\n",
        "\n",
        "\n"
      ],
      "metadata": {
        "id": "BIoEYijjWgWR"
      }
    },
    {
      "cell_type": "code",
      "source": [
        "# Question 1: Write a Python program that checks if a given number is even. If it is, print \"Even number\".\n",
        "num1 = int(input(\"Enter Number : \"))\n",
        "if num1 % 2 == 0:\n",
        "  print(\"Even Number\")"
      ],
      "metadata": {
        "colab": {
          "base_uri": "https://localhost:8080/"
        },
        "id": "-LbEKgAqYwzj",
        "outputId": "6498d355-254f-469b-ef17-08e240cf7209"
      },
      "execution_count": null,
      "outputs": [
        {
          "output_type": "stream",
          "name": "stdout",
          "text": [
            "Enter Number : 24\n",
            "Even Number\n"
          ]
        }
      ]
    },
    {
      "cell_type": "code",
      "execution_count": null,
      "metadata": {
        "colab": {
          "base_uri": "https://localhost:8080/"
        },
        "id": "nOzLAIU8WR8U",
        "outputId": "94e909c4-fc1c-491d-8b96-2d65d4bfe01d"
      },
      "outputs": [
        {
          "name": "stdout",
          "output_type": "stream",
          "text": [
            "Enter String : meetr\n"
          ]
        }
      ],
      "source": [
        "# Question 2: Write a Python program that checks if a given string contains the letter 'a'. If it does, print \"String contains 'a'\".\n",
        "string2 = input(\"Enter String : \")\n",
        "if 'a' in string2:\n",
        "  print(\"String contains a\")"
      ]
    },
    {
      "cell_type": "code",
      "source": [
        "# Question 3: Write a Python program that checks if a given year is a leap year. If it is, print \"Leap year\".\n",
        "year = 2023\n",
        "if year % 400 ==0 or (year %4 == 0 and year%100 != 0):\n",
        "  print(\"Leap year\")\n",
        "else:\n",
        "  print(\"No\")"
      ],
      "metadata": {
        "colab": {
          "base_uri": "https://localhost:8080/"
        },
        "id": "pYd875xjYCqw",
        "outputId": "6fcfdc1e-c1f2-4eb9-9189-7e7793a84144"
      },
      "execution_count": null,
      "outputs": [
        {
          "output_type": "stream",
          "name": "stdout",
          "text": [
            "No\n"
          ]
        }
      ]
    },
    {
      "cell_type": "code",
      "source": [
        "# Question 4: Write a Python program that checks if a given number is positive. If it is, print \"Positive number\".\n",
        "num4 = int(input(\"Enter Number : \"))\n",
        "if num4 > 0 :\n",
        "  print(\"Positive Number\")"
      ],
      "metadata": {
        "colab": {
          "base_uri": "https://localhost:8080/"
        },
        "id": "R6OsH_xVaLHO",
        "outputId": "b3c39ce9-66df-4303-9638-6424ac195f4a"
      },
      "execution_count": null,
      "outputs": [
        {
          "output_type": "stream",
          "name": "stdout",
          "text": [
            "Enter Number : 2\n",
            "Positive Number\n"
          ]
        }
      ]
    },
    {
      "cell_type": "code",
      "source": [
        "# Question 5: Write a Python program that checks if a given character is a vowel. If it is, print \"Vowel\".\n",
        "char5 = input(\"Enter Character : \")\n",
        "if char5 in ['a','e','i','o','u']:\n",
        "  print(\"Vowel\")"
      ],
      "metadata": {
        "colab": {
          "base_uri": "https://localhost:8080/"
        },
        "id": "IIEv9nVKa2EP",
        "outputId": "d4e98a89-9323-45aa-c102-4bcfbdeae1f6"
      },
      "execution_count": null,
      "outputs": [
        {
          "output_type": "stream",
          "name": "stdout",
          "text": [
            "Enter Character : u\n",
            "Vowel\n"
          ]
        }
      ]
    },
    {
      "cell_type": "code",
      "source": [
        "# Question 6: Write a Python program that checks if a given number is divisible by 3. If it is, print \"Divisible by 3\"; otherwise, print \"Not divisible by 3\".\n",
        "num6 = int(input(\"Enter Number : \"))\n",
        "if num6 % 3 == 0:\n",
        "  print(\"Divisible by 3\")\n",
        "else :\n",
        "  print(\"Not divisible by 3\")"
      ],
      "metadata": {
        "colab": {
          "base_uri": "https://localhost:8080/"
        },
        "id": "nF9skrbgbYUc",
        "outputId": "d1d0578c-228b-48f5-9165-24a4c82c86de"
      },
      "execution_count": null,
      "outputs": [
        {
          "output_type": "stream",
          "name": "stdout",
          "text": [
            "Enter Number : 393\n",
            "Divisible by 3\n"
          ]
        }
      ]
    },
    {
      "cell_type": "code",
      "source": [
        "# Question 7: Write a Python program that checks if a given string is empty. If it is, print \"Empty string\".\n",
        "string7 = input(\"Enter String : \")\n",
        "if string7 == '':\n",
        "  print(\"Empty String\")"
      ],
      "metadata": {
        "colab": {
          "base_uri": "https://localhost:8080/"
        },
        "id": "lEUdgzJObt0L",
        "outputId": "4e6e7bd4-2821-49e4-ffa5-63123db82c03"
      },
      "execution_count": null,
      "outputs": [
        {
          "output_type": "stream",
          "name": "stdout",
          "text": [
            "Enter String : \n",
            "Empty String\n"
          ]
        }
      ]
    },
    {
      "cell_type": "code",
      "source": [
        "# Question 8: Write a Python program that checks if a given number is divisible by both 5 and 7. If it is, print \"Divisible by 5 and 7\".\n",
        "num8 = int(input(\"Enter Number : \"))\n",
        "if num8 % 5 == 0 and num8 % 7 == 0:\n",
        "  print(\"Divisible by 5 and 7\")"
      ],
      "metadata": {
        "colab": {
          "base_uri": "https://localhost:8080/"
        },
        "id": "QTbCaCh1dAn-",
        "outputId": "f206e2fc-27cc-4701-d4ff-4f6506fdd488"
      },
      "execution_count": null,
      "outputs": [
        {
          "output_type": "stream",
          "name": "stdout",
          "text": [
            "Enter Number : 105\n",
            "Divisible by 5 and 7\n"
          ]
        }
      ]
    },
    {
      "cell_type": "code",
      "source": [
        "# Question 9: Write a Python program that checks if a given list contains any negative numbers. If it does, print \"List contains negative numbers\".\n",
        "list9 = [2,4,4,-6]\n",
        "for x in list9:\n",
        "  if x <0:\n",
        "    print(\"List contains negative numbers\")\n",
        "    break"
      ],
      "metadata": {
        "colab": {
          "base_uri": "https://localhost:8080/"
        },
        "id": "cLIaL3TLdXHS",
        "outputId": "79c4d7a2-f9ad-4987-97a5-4cb72f7119b3"
      },
      "execution_count": null,
      "outputs": [
        {
          "output_type": "stream",
          "name": "stdout",
          "text": [
            "List contains negative numbers\n"
          ]
        }
      ]
    },
    {
      "cell_type": "code",
      "source": [
        "# Question 10: Write a Python program that checks if a given word is a palindrome. If it is, print \"Palindrome\".\n",
        "string10 = input(\"Enter String : \")\n",
        "if string10 == string10[-1::-1]:\n",
        "  print(\"Palindrome\")"
      ],
      "metadata": {
        "colab": {
          "base_uri": "https://localhost:8080/"
        },
        "id": "VDAvZ6fNd3D6",
        "outputId": "6a02a83c-1b10-49f6-d10b-61aae7e6ccd2"
      },
      "execution_count": null,
      "outputs": [
        {
          "output_type": "stream",
          "name": "stdout",
          "text": [
            "Enter String : tenet\n",
            "Palindrome\n"
          ]
        }
      ]
    },
    {
      "cell_type": "markdown",
      "source": [
        "if-else statements:\n",
        "\n",
        "Question 1: Write a Python program that checks if a given number is positive. If it is, print \"Positive number\"; otherwise, print \"Negative number\".\n",
        "\n",
        "Question 2: Write a Python program that checks if a given string is empty. If it is, print \"Empty string\"; otherwise, print \"Non-empty string\".\n",
        "\n",
        "Question 3: Write a Python program that checks if a given number is even. If it is, print \"Even number\"; otherwise, print \"Odd number\".\n",
        "\n",
        "Question 4: Write a Python program that checks if a given character is a vowel. If it is, print \"Vowel\"; otherwise, print \"Consonant\".\n",
        "\n",
        "Question 5: Write a Python program that checks if a given year is a leap year. If it is, print \"Leap year\"; otherwise, print \"Not a leap year\".\n",
        "\n",
        "Question 6: Write a Python program that checks if a given number is divisible by 3. If it is, print \"Divisible by 3\"; otherwise, print \"Not divisible by 3\".\n",
        "\n",
        "Question 7: Write a Python program that checks if a given string is a palindrome. If it is, print \"Palindrome\"; otherwise, print \"Not a palindrome\".\n",
        "\n",
        "Question 8: Write a Python program that checks if a given list is empty. If it is, print \"Empty list\"; otherwise, print \"Non-empty list\".\n",
        "\n",
        "Question 9: Write a Python program that checks if a given number is greater than, less than, or equal to 50. Print the corresponding message.\n",
        "\n",
        "Question 10: Write a Python program that checks if a given character is an uppercase letter. If it is, print \"Uppercase\"; otherwise, print \"Lowercase\"."
      ],
      "metadata": {
        "id": "w7xMhMwEJNrs"
      }
    },
    {
      "cell_type": "code",
      "source": [
        "# Question 1: Write a Python program that checks if a given number is positive. If it is, print \"Positive number\"; otherwise, print \"Negative number\".\n",
        "num1 = int(input(\"Enter Number : \"))\n",
        "if num1 >= 0:\n",
        "  print(\"Positive Number\")\n",
        "else :\n",
        "  print(\"Negative Number\")"
      ],
      "metadata": {
        "id": "IYlnqqFIeSCM",
        "colab": {
          "base_uri": "https://localhost:8080/"
        },
        "outputId": "183c498f-ac75-42b0-a7e3-dc8c444d7d04"
      },
      "execution_count": 2,
      "outputs": [
        {
          "output_type": "stream",
          "name": "stdout",
          "text": [
            "Enter Number : -12\n",
            "Negative Number\n"
          ]
        }
      ]
    },
    {
      "cell_type": "code",
      "source": [
        "# Question 2: Write a Python program that checks if a given string is empty. If it is, print \"Empty string\"; otherwise, print \"Non-empty string\".\n",
        "n2 = input(\"Enter  : \")\n",
        "if n2 == \"\":\n",
        "  print(\"Empty String\")\n",
        "else :\n",
        "  print(\"Non-empty String\")"
      ],
      "metadata": {
        "colab": {
          "base_uri": "https://localhost:8080/"
        },
        "id": "Bt1_IGfGJbZS",
        "outputId": "9b49f50e-5242-4987-8f5e-bf27dde9a6d0"
      },
      "execution_count": 8,
      "outputs": [
        {
          "output_type": "stream",
          "name": "stdout",
          "text": [
            "Enter  : j\n",
            "Non-empty String\n"
          ]
        }
      ]
    },
    {
      "cell_type": "code",
      "source": [
        "# Question 3: Write a Python program that checks if a given number is even. If it is, print \"Even number\"; otherwise, print \"Odd number\".\n",
        "num3 = int(input(\"Enter Number : \"))\n",
        "if num3%2 == 0:\n",
        "  print(\"Even Number\")\n",
        "else :\n",
        "  print(\"Odd Number\")"
      ],
      "metadata": {
        "colab": {
          "base_uri": "https://localhost:8080/"
        },
        "id": "JmOxa9E1Juwz",
        "outputId": "b60c5ae7-0f4b-48f3-92b1-6b48dc5257dd"
      },
      "execution_count": 9,
      "outputs": [
        {
          "output_type": "stream",
          "name": "stdout",
          "text": [
            "Enter Number : 67\n",
            "Odd Number\n"
          ]
        }
      ]
    },
    {
      "cell_type": "code",
      "source": [
        "# Question 4: Write a Python program that checks if a given character is a vowel. If it is, print \"Vowel\"; otherwise, print \"Consonant\".\n",
        "n4 = input(\"Enter Character : \")\n",
        "if n4 in ['a','i','e','o','u','A','E','I','O','U']:\n",
        "  print(\"Vowel\")\n",
        "else :\n",
        "  print(\"Consonant\")"
      ],
      "metadata": {
        "colab": {
          "base_uri": "https://localhost:8080/"
        },
        "id": "HL5bHISTJvJ_",
        "outputId": "064cce22-4c8e-42b7-b2ef-02a3c847a9c0"
      },
      "execution_count": 12,
      "outputs": [
        {
          "output_type": "stream",
          "name": "stdout",
          "text": [
            "Enter Character : L\n",
            "Consonant\n"
          ]
        }
      ]
    },
    {
      "cell_type": "code",
      "source": [
        "# Question 5: Write a Python program that checks if a given year is a leap year. If it is, print \"Leap year\"; otherwise, print \"Not a leap year\".\n",
        "\n",
        "year = int(input(\"Enter Number : \"))\n",
        "if year % 400 ==0 or (year %4 == 0 and year%100 != 0):\n",
        "  print(\"Leap year\")\n",
        "else:\n",
        "  print(\"Not a Leap Year\")"
      ],
      "metadata": {
        "colab": {
          "base_uri": "https://localhost:8080/"
        },
        "id": "uFqEWVLuJvaC",
        "outputId": "6ecfc197-2be6-444d-9b94-5fe77e390df5"
      },
      "execution_count": 14,
      "outputs": [
        {
          "output_type": "stream",
          "name": "stdout",
          "text": [
            "Enter Number : 2024\n",
            "Leap year\n"
          ]
        }
      ]
    },
    {
      "cell_type": "code",
      "source": [
        "# Question 6: Write a Python program that checks if a given number is divisible by 3. If it is, print \"Divisible by 3\"; otherwise, print \"Not divisible by 3\".\n",
        "num6 = int(input(\"Enter Number : \"))\n",
        "if num6 % 3 == 0:\n",
        "  print(\"Divisible By 3\")\n",
        "else :\n",
        "  print(\"Not Divisible By 3\")"
      ],
      "metadata": {
        "colab": {
          "base_uri": "https://localhost:8080/"
        },
        "id": "a5ojlO_BJvyw",
        "outputId": "a23bc3f6-a4f5-4db2-9d14-7a73c5e646db"
      },
      "execution_count": 16,
      "outputs": [
        {
          "output_type": "stream",
          "name": "stdout",
          "text": [
            "Enter Number : 78\n",
            "Divisible By 3\n"
          ]
        }
      ]
    },
    {
      "cell_type": "code",
      "source": [
        "# Question 7: Write a Python program that checks if a given string is a palindrome. If it is, print \"Palindrome\"; otherwise, print \"Not a palindrome\".\n",
        "string7 = input(\"Enter String : \")\n",
        "if string7 == string7[-1::-1]:\n",
        "  print(\"Palindrome\")\n",
        "else :\n",
        "  print(\"Not a Palindrome\")"
      ],
      "metadata": {
        "colab": {
          "base_uri": "https://localhost:8080/"
        },
        "id": "V4-3T_N4Ls1y",
        "outputId": "a82930e1-f2e6-4675-d68d-c423b9543bfd"
      },
      "execution_count": 17,
      "outputs": [
        {
          "output_type": "stream",
          "name": "stdout",
          "text": [
            "Enter String : malayalam\n",
            "Palindrome\n"
          ]
        }
      ]
    },
    {
      "cell_type": "code",
      "source": [
        "# Question 8: Write a Python program that checks if a given string is empty. If it is, print \"Empty string\"; otherwise, print \"Non-empty string\".\n",
        "n2 = input(\"Enter  : \")\n",
        "if n2 == \"\":\n",
        "  print(\"Empty String\")\n",
        "else :\n",
        "  print(\"Non-empty String\")"
      ],
      "metadata": {
        "colab": {
          "base_uri": "https://localhost:8080/"
        },
        "id": "eL1me-gYMD7G",
        "outputId": "f467c405-df0d-477f-a0b3-f8ba87af43ca"
      },
      "execution_count": 18,
      "outputs": [
        {
          "output_type": "stream",
          "name": "stdout",
          "text": [
            "Enter  : \n",
            "Empty String\n"
          ]
        }
      ]
    },
    {
      "cell_type": "code",
      "source": [
        "# Question 9: Write a Python program that checks if a given number is greater than, less than, or equal to 50. Print the corresponding message.\n",
        "num9 = int(input(\"Enter Number :\"))\n",
        "if num9 > 50 :\n",
        "  print(num9,\"is Greater than 50.\")\n",
        "elif num9 < 50 :\n",
        "  print(num9,\"is Less than 50.\")\n",
        "else :\n",
        "  print(num9,\"is Equal to 50.\")"
      ],
      "metadata": {
        "colab": {
          "base_uri": "https://localhost:8080/"
        },
        "id": "IIiHoNYdMWsW",
        "outputId": "22dd95e4-a235-456e-a586-0a142572ac68"
      },
      "execution_count": 21,
      "outputs": [
        {
          "output_type": "stream",
          "name": "stdout",
          "text": [
            "Enter Number :50\n",
            "50 is Equal to 50.\n"
          ]
        }
      ]
    },
    {
      "cell_type": "code",
      "source": [
        "# Question 10: Write a Python program that checks if a given character is an uppercase letter. If it is, print \"Uppercase\"; otherwise, print \"Lowercase\".\n",
        "string10 = input(\"Enter String :\")\n",
        "if string10.isupper() :\n",
        "  print(\"Uppercase\")\n",
        "else :\n",
        "  print(\"Lowercase\")"
      ],
      "metadata": {
        "colab": {
          "base_uri": "https://localhost:8080/"
        },
        "id": "X-J0HxftM4WR",
        "outputId": "914d83f7-6229-445e-bc2d-49077427cff4"
      },
      "execution_count": 26,
      "outputs": [
        {
          "output_type": "stream",
          "name": "stdout",
          "text": [
            "Enter String :SD\n",
            "Uppercase\n"
          ]
        }
      ]
    },
    {
      "cell_type": "code",
      "source": [],
      "metadata": {
        "id": "RgOZAypPNOu_"
      },
      "execution_count": null,
      "outputs": []
    }
  ]
}