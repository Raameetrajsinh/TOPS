{
  "nbformat": 4,
  "nbformat_minor": 0,
  "metadata": {
    "colab": {
      "provenance": []
    },
    "kernelspec": {
      "name": "python3",
      "display_name": "Python 3"
    },
    "language_info": {
      "name": "python"
    }
  },
  "cells": [
    {
      "cell_type": "markdown",
      "source": [
        "Question 1: Define a class named Car with attributes make, model, and year. Include a method called get_info() that prints out the details of the car. Create an instance of the Car class and call the get_info() method.\n",
        "\n",
        "Question 2: Create a class named Rectangle with attributes length and width. Include methods to calculate the area and perimeter of the rectangle. Create an instance of the Rectangle class with length 5 and width 3, then print its area and perimeter.\n",
        "\n",
        "Question 3: Define a class called Employee with attributes name, position, and salary. Include a method called raise_salary() that takes a percentage increase as an argument and updates the salary accordingly. Create an instance of the Employee class and call the raise_salary() method with a 10% increase.\n",
        "\n",
        "Question 4: Create a class named BankAccount with attributes account_number, holder_name, and balance. Include methods to deposit money, withdraw money, and check the balance. Create an instance of the BankAccount class, deposit $100, withdraw $50, and then print the remaining balance.\n",
        "\n",
        "Question 5: Define a class named Circle with attributes radius and color. Include methods to calculate the area and circumference of the circle. Create an instance of the Circle class with radius 5 and color \"blue\", then print its area and circumference.\n",
        "\n",
        "Question 6: Create a class named Book with attributes title, author, and price. Include a method called discount() that takes a percentage discount as an argument and updates the price accordingly. Create an instance of the Book class and call the discount() method with a 20% discount.\n",
        "\n",
        "Question 7: Define a class called Student with attributes name, age, and grades. Include a method called calculate_average() that computes the average grade of the student. Create an instance of the Student class with name \"Alice\", age 20, and grades [90, 85, 88], then print the average grade.\n",
        "\n",
        "Question 8: Create a class named Rectangle with attributes length and width. Include methods to calculate the area, perimeter, and diagonal of the rectangle. Create an instance of the Rectangle class with length 4 and width 3, then print its area, perimeter, and diagonal.\n",
        "\n",
        "\n",
        "Question 9: Define a class named Person with attributes name, age, and gender. Include methods to update the age and display information about the person. Create an instance of the Person class with name \"Alice\", age 25, and gender \"Female\". Update the age to 30 and display the information about the person.\n",
        "\n",
        "Question 10: Create a class named BankAccount with attributes account_number, account_holder, and balance. Include methods to deposit and withdraw money, and to display the account details. Create two instances of the BankAccount class, one for savings account and one for checking account, and perform deposit and withdrawal operations on each.\n",
        "\n",
        "Question 11: Define a class called Rectangle with attributes length and width. Include methods to calculate the area and perimeter of the rectangle, and to display its dimensions. Create an instance of the Rectangle class with length 4 and width 5, then print its area, perimeter, and dimensions.\n",
        "\n",
        "Question 12: Create a class named Student with attributes name, roll_number, and grades. Include methods to add grades, calculate the average grade, and display the student's information. Create an instance of the Student class with name \"John\", roll number \"12345\", and grades [85, 90, 88]. Add another grade (95), calculate the average grade, and display the student's information.\n",
        "\n",
        "Question 13: Define a class called Triangle with attributes side1, side2, and side3. Include methods to check if the triangle is valid, calculate its perimeter, area, and display its sides. Create an instance of the Triangle class with side lengths 3, 4, and 5, then check if it is valid, calculate its perimeter and area, and display its sides."
      ],
      "metadata": {
        "id": "G1Q180hX9kF7"
      }
    },
    {
      "cell_type": "code",
      "source": [
        "# Question 1: Define a class named Car with attributes make, model, and year. Include a method called get_info() that prints out the details of the car.\n",
        "# Create an instance of the Car class and call the get_info() method.\n",
        "\n",
        "class Car :\n",
        "  def __init__(self,name,model,year):\n",
        "    self.name = name\n",
        "    self.model = model\n",
        "    self.year = year\n",
        "  def get_info(self) :\n",
        "    print(\"Car :\",self.name)\n",
        "    print(\"Model :\",self.model)\n",
        "    print(\"Year :\",self.year)"
      ],
      "metadata": {
        "id": "cclgBa1dz6-u"
      },
      "execution_count": null,
      "outputs": []
    },
    {
      "cell_type": "code",
      "source": [
        "inv = Car(\"Innova\",\"2.4 Z\",2020)"
      ],
      "metadata": {
        "id": "mmhOVoEXz62t"
      },
      "execution_count": null,
      "outputs": []
    },
    {
      "cell_type": "code",
      "source": [
        "inv.get_info()"
      ],
      "metadata": {
        "colab": {
          "base_uri": "https://localhost:8080/"
        },
        "id": "vFnz8qrwz6uw",
        "outputId": "7edf5b7e-c0f6-4ed6-d6b7-f38b83df43e3"
      },
      "execution_count": null,
      "outputs": [
        {
          "output_type": "stream",
          "name": "stdout",
          "text": [
            "Car : Innova\n",
            "Model : 2.4 Z\n",
            "Year : 2020\n"
          ]
        }
      ]
    },
    {
      "cell_type": "code",
      "source": [
        "# Question 2: Create a class named Rectangle with attributes length and width. Include methods to calculate the area and perimeter of the rectangle.\n",
        "# Create an instance of the Rectangle class with length 5 and width 3, then print its area and perimeter.\n",
        "\n",
        "class Rectangle :\n",
        "  def __init__(self,length,width) :\n",
        "    self.length = length\n",
        "    self.width = width\n",
        "\n",
        "  def area(self):\n",
        "    are = self.length*self.width\n",
        "    print(\"Area of The Given Rectangle with Length\",self.length,\"and Width\",self.width,\"is\",are,\"square units.\")\n",
        "\n",
        "  def per(self):\n",
        "    peri = 2*(self.length+self.width)\n",
        "    print(\"Perimeter of The Given Rectangle with Length\",self.length,\"and Width\",self.width,\"is\",peri,\"units.\")"
      ],
      "metadata": {
        "id": "lNB1NyNSz6n7"
      },
      "execution_count": null,
      "outputs": []
    },
    {
      "cell_type": "code",
      "source": [
        "rectangle = Rectangle(5,3)"
      ],
      "metadata": {
        "id": "BDXu-hGbz6cc"
      },
      "execution_count": null,
      "outputs": []
    },
    {
      "cell_type": "code",
      "source": [
        "rectangle.area()"
      ],
      "metadata": {
        "colab": {
          "base_uri": "https://localhost:8080/"
        },
        "id": "sV_7G7mm1bNv",
        "outputId": "389bdc5d-2cee-4cfb-ad97-7479195660c4"
      },
      "execution_count": null,
      "outputs": [
        {
          "output_type": "stream",
          "name": "stdout",
          "text": [
            "Area of The Given Rectangle with Length 5 and Width 3 is 15 square units.\n"
          ]
        }
      ]
    },
    {
      "cell_type": "code",
      "source": [
        "rectangle.per()"
      ],
      "metadata": {
        "colab": {
          "base_uri": "https://localhost:8080/"
        },
        "id": "sAOqOgFf1bKJ",
        "outputId": "7d4989b0-3500-4d4e-bdfb-a34cf23016f3"
      },
      "execution_count": null,
      "outputs": [
        {
          "output_type": "stream",
          "name": "stdout",
          "text": [
            "Perimeter of The Given Rectangle with Length 5 and Width 3 is 16 units.\n"
          ]
        }
      ]
    },
    {
      "cell_type": "code",
      "execution_count": null,
      "metadata": {
        "id": "cj50XRkFs2WJ"
      },
      "outputs": [],
      "source": [
        "# Question 3: Define a class called Employee with attributes name, position, and salary.\n",
        "# Include a method called raise_salary() that takes a percentage increase as an argument and updates the salary accordingly.\n",
        "# Create an instance of the Employee class and call the raise_salary() method with a 10% increase.\n",
        "\n",
        "class Employee:\n",
        "  def __init__(self,name,position,salary):\n",
        "    self.name = name\n",
        "    self.position = position\n",
        "    self.salary = salary\n",
        "  def raise_salary(self,percent_raise):\n",
        "    self.salary = self.salary + (self.salary * (percent_raise/100))"
      ]
    },
    {
      "cell_type": "code",
      "source": [
        "e1 = Employee(\"Rajesh\",\"Manager\",50000)"
      ],
      "metadata": {
        "id": "Ti2sEZLotlFb"
      },
      "execution_count": null,
      "outputs": []
    },
    {
      "cell_type": "code",
      "source": [
        "e1.raise_salary(10)\n",
        "print(\"The Updated Salary of\",e1.position,e1.name,\"is\",e1.salary)"
      ],
      "metadata": {
        "colab": {
          "base_uri": "https://localhost:8080/"
        },
        "id": "7tHmc6lst-er",
        "outputId": "18a2ae5d-c8be-497b-8c4c-d0b8f9969cd8"
      },
      "execution_count": null,
      "outputs": [
        {
          "output_type": "stream",
          "name": "stdout",
          "text": [
            "The Updated Salary of Manager Rajesh is 55000.0\n"
          ]
        }
      ]
    },
    {
      "cell_type": "code",
      "source": [
        "# Question 4: Create a class named BankAccount with attributes account_number, holder_name, and balance.\n",
        "# Include methods to deposit money, withdraw money, and check the balance.\n",
        "# Create an instance of the BankAccount class, deposit  100,withdraw 50, and then print the remaining balance.\n",
        "\n",
        "class BankAccount :\n",
        "  def __init__(self,acc_number,name,balance):\n",
        "    self.acnumber = acc_number\n",
        "    self.name = name\n",
        "    self.balance = balance\n",
        "  def deposit(self,amount):\n",
        "    self.balance += amount\n",
        "  def withdraw(self,amount):\n",
        "    if self.balance < amount or self.balance == 0:\n",
        "      print(\"Insufficient Balance\")\n",
        "    else:\n",
        "      self.balance -= amount\n",
        "  def checkbalance(self):\n",
        "    print(\"The Balance of\",self.name,\"is\",self.balance)"
      ],
      "metadata": {
        "id": "fca2VSCJuB1N"
      },
      "execution_count": null,
      "outputs": []
    },
    {
      "cell_type": "code",
      "source": [
        "a1 = BankAccount(21002170410020,\"Meetrajsinh\",500)"
      ],
      "metadata": {
        "id": "InuVvGcVyTb8"
      },
      "execution_count": null,
      "outputs": []
    },
    {
      "cell_type": "code",
      "source": [
        "a1.checkbalance()"
      ],
      "metadata": {
        "colab": {
          "base_uri": "https://localhost:8080/"
        },
        "id": "27aLSlijyeoO",
        "outputId": "634db5ff-bd22-4ded-b36b-4c3ba4136743"
      },
      "execution_count": null,
      "outputs": [
        {
          "output_type": "stream",
          "name": "stdout",
          "text": [
            "The Balance of Meetrajsinh is 500\n"
          ]
        }
      ]
    },
    {
      "cell_type": "code",
      "source": [
        "a1.deposit(100)"
      ],
      "metadata": {
        "id": "vEPctGw_yiRJ"
      },
      "execution_count": null,
      "outputs": []
    },
    {
      "cell_type": "code",
      "source": [
        "a1.checkbalance()"
      ],
      "metadata": {
        "colab": {
          "base_uri": "https://localhost:8080/"
        },
        "id": "gLzAYhWSymDI",
        "outputId": "0d164321-cadb-4b1e-b0c0-586f3de9c92d"
      },
      "execution_count": null,
      "outputs": [
        {
          "output_type": "stream",
          "name": "stdout",
          "text": [
            "The Balance of Meetrajsinh is 600\n"
          ]
        }
      ]
    },
    {
      "cell_type": "code",
      "source": [
        "a1.withdraw(50)"
      ],
      "metadata": {
        "id": "0Yiuvw2ayoeT"
      },
      "execution_count": null,
      "outputs": []
    },
    {
      "cell_type": "code",
      "source": [
        "a1.checkbalance()"
      ],
      "metadata": {
        "colab": {
          "base_uri": "https://localhost:8080/"
        },
        "id": "m5GaDZbgysTY",
        "outputId": "19464f66-ede7-4b88-9f9a-3568331da2af"
      },
      "execution_count": null,
      "outputs": [
        {
          "output_type": "stream",
          "name": "stdout",
          "text": [
            "The Balance of Meetrajsinh is 550\n"
          ]
        }
      ]
    },
    {
      "cell_type": "code",
      "source": [
        "# Question 5: Define a class named Circle with attributes radius and color. Include methods to calculate the area and circumference of the circle.\n",
        "# Create an instance of the Circle class with radius 5 and color \"blue\", then print its area and circumference.\n",
        "\n",
        "class Circle :\n",
        "  def __init__(self,radius,color) :\n",
        "    self.radius = radius\n",
        "    self.color = color\n",
        "\n",
        "  def area(self) :\n",
        "    area = 3.14 * self.radius * self.radius\n",
        "    print(\"Area of the Circle with Radius\",self.radius,\"and Color\",self.color,\"is\",area,\"square units.\")\n",
        "\n",
        "  def circumference(self) :\n",
        "    cir = 2 * 3.14 * self.radius\n",
        "    print(\"Circumference of the Circle with Radius\",self.radius,\"and Color\",self.color,\"is\",cir,\"units.\")"
      ],
      "metadata": {
        "id": "MiTK5Kdo1n-I"
      },
      "execution_count": null,
      "outputs": []
    },
    {
      "cell_type": "code",
      "source": [
        "c = Circle(4,\"Red\")\n",
        "c.area()"
      ],
      "metadata": {
        "colab": {
          "base_uri": "https://localhost:8080/"
        },
        "id": "IJjJzywL1n3Y",
        "outputId": "71ceca1e-a29e-44dd-ede6-b763105a8ccd"
      },
      "execution_count": null,
      "outputs": [
        {
          "output_type": "stream",
          "name": "stdout",
          "text": [
            "Area of the Circle with Radius 4 and Color Red is 50.24 square units.\n"
          ]
        }
      ]
    },
    {
      "cell_type": "code",
      "source": [
        "c.circumference()"
      ],
      "metadata": {
        "colab": {
          "base_uri": "https://localhost:8080/"
        },
        "id": "dMVpIjE11n0h",
        "outputId": "727ca316-1d40-46f3-f27e-d478ebb071be"
      },
      "execution_count": null,
      "outputs": [
        {
          "output_type": "stream",
          "name": "stdout",
          "text": [
            "Circumference of the Circle with Radius 4 and Color Red is 25.12 units.\n"
          ]
        }
      ]
    },
    {
      "cell_type": "code",
      "source": [
        "# Question 6: Create a class named Book with attributes title, author, and price.\n",
        "# Include a method called discount() that takes a percentage discount as an argument and updates the price accordingly.\n",
        "# Create an instance of the Book class and call the discount() method with a 20% discount.\n",
        "\n",
        "class Book :\n",
        "  def __init__(self,title,author,price):\n",
        "    self.title = title\n",
        "    self.author = author\n",
        "    self.price = price\n",
        "\n",
        "  def discount(self,per):\n",
        "    self.price -= (per*self.price)/100\n",
        "    print(\"You can now purchase\",self.title,\"By\",self.author,\"at only\",self.price)"
      ],
      "metadata": {
        "id": "4dLlXjpx1nxf"
      },
      "execution_count": null,
      "outputs": []
    },
    {
      "cell_type": "code",
      "source": [
        "harry = Book(\"Harry Potter\",\"J K Rowling\",1000)"
      ],
      "metadata": {
        "id": "0QrK7GqU1njx"
      },
      "execution_count": null,
      "outputs": []
    },
    {
      "cell_type": "code",
      "source": [
        "harry.discount(20)"
      ],
      "metadata": {
        "colab": {
          "base_uri": "https://localhost:8080/"
        },
        "id": "n7kTwLr71nbS",
        "outputId": "161f2b73-13c5-40db-bcaf-4753752bb3ce"
      },
      "execution_count": null,
      "outputs": [
        {
          "output_type": "stream",
          "name": "stdout",
          "text": [
            "You can now purchase Harry Potter By J K Rowling at only 800.0\n"
          ]
        }
      ]
    },
    {
      "cell_type": "code",
      "source": [
        "# Question 7: Define a class called Student with attributes name, age, and grades. Include a method called calculate_average() that computes the average grade of the student.\n",
        "# Create an instance of the Student class with name \"Alice\", age 20, and grades [90, 85, 88], then print the average grade.\n",
        "\n",
        "class Student :\n",
        "  def __init__(self,name,age,grades):\n",
        "    self.name = name\n",
        "    self.age = age\n",
        "    self.grades = grades\n",
        "\n",
        "  def average(self):\n",
        "    sum = 0\n",
        "    c=0\n",
        "    for i in self.grades:\n",
        "      sum += i\n",
        "      c += 1\n",
        "    aver = sum/c\n",
        "    print(\"Student\",self.name,\"Age\",self.age,\"With Grades\",self.grades,\"averaeg\",aver)"
      ],
      "metadata": {
        "id": "4fQ_XyQd1nSv"
      },
      "execution_count": null,
      "outputs": []
    },
    {
      "cell_type": "code",
      "source": [
        "alice = Student(\"Alice\",20,[90,85,88])\n",
        "alice.average()"
      ],
      "metadata": {
        "colab": {
          "base_uri": "https://localhost:8080/"
        },
        "id": "l7RjlGCiQNup",
        "outputId": "d26fcae8-f152-4336-dbe4-11a655ab2271"
      },
      "execution_count": null,
      "outputs": [
        {
          "output_type": "stream",
          "name": "stdout",
          "text": [
            "Student Alice Age 20 With Grades [90, 85, 88] averaeg 87.66666666666667\n"
          ]
        }
      ]
    },
    {
      "cell_type": "code",
      "source": [
        "# Question 8: Create a class named Rectangle with attributes length and width. Include methods to calculate the area, perimeter, and diagonal of the rectangle.\n",
        "# Create an instance of the Rectangle class with length 4 and width 3, then print its area, perimeter, and diagonal.\n",
        "\n",
        "class Rectangle :\n",
        "  def __init__(self,length,width) :\n",
        "    self.length = length\n",
        "    self.width = width\n",
        "\n",
        "  def area(self):\n",
        "    are = self.length*self.width\n",
        "    print(\"Area of The Given Rectangle with Length\",self.length,\"and Width\",self.width,\"is\",are,\"square units.\")\n",
        "\n",
        "  def per(self):\n",
        "    peri = 2*(self.length+self.width)\n",
        "    print(\"Perimeter of The Given Rectangle with Length\",self.length,\"and Width\",self.width,\"is\",peri,\"units.\")\n",
        "\n",
        "  def diagonal(self) :\n",
        "    d = ( ( self.length* self.length ) + ( self.width *self.width ) )  ** 0.5\n",
        "    print(\"Diagonal of The Given Rectangle with Length\",self.length,\"and Width\",self.width,\"is\",d,\"units.\")\n"
      ],
      "metadata": {
        "id": "kwsSADpGQcyg"
      },
      "execution_count": null,
      "outputs": []
    },
    {
      "cell_type": "code",
      "source": [
        "rect = Rectangle(4,3)\n",
        "rect.area()"
      ],
      "metadata": {
        "colab": {
          "base_uri": "https://localhost:8080/"
        },
        "id": "yrZJTqOOQcox",
        "outputId": "5b57167f-56e3-4b7a-8219-6a58a64b6e4b"
      },
      "execution_count": null,
      "outputs": [
        {
          "output_type": "stream",
          "name": "stdout",
          "text": [
            "Area of The Given Rectangle with Length 4 and Width 3 is 12 square units.\n"
          ]
        }
      ]
    },
    {
      "cell_type": "code",
      "source": [
        "rect.per()"
      ],
      "metadata": {
        "colab": {
          "base_uri": "https://localhost:8080/"
        },
        "id": "NdpxgiFnRjQz",
        "outputId": "ad5f0cfb-d673-4ebd-d5b0-ed7231e70c26"
      },
      "execution_count": null,
      "outputs": [
        {
          "output_type": "stream",
          "name": "stdout",
          "text": [
            "Perimeter of The Given Rectangle with Length 4 and Width 3 is 14 units.\n"
          ]
        }
      ]
    },
    {
      "cell_type": "code",
      "source": [
        "rect.diagonal()"
      ],
      "metadata": {
        "colab": {
          "base_uri": "https://localhost:8080/"
        },
        "id": "OtsGYV4bRi-u",
        "outputId": "aa725934-fa48-4056-e4b7-7da500aac775"
      },
      "execution_count": null,
      "outputs": [
        {
          "output_type": "stream",
          "name": "stdout",
          "text": [
            "Diagonal of The Given Rectangle with Length 4 and Width 3 is 5.0 units.\n"
          ]
        }
      ]
    },
    {
      "cell_type": "code",
      "source": [
        "# Question 9: Define a class named Person with attributes name, age, and gender. Include methods to update the age and display information about the person.\n",
        "# Create an instance of the Person class with name \"Alice\", age 25, and gender \"Female\".Update the age to 30 and display the information about the person.\n",
        "\n",
        "class Person :\n",
        "  def __init__(self,name,age,gender):\n",
        "    self.name = name\n",
        "    self.age = age\n",
        "    self.gender = gender\n",
        "  def update_age(self,a):\n",
        "    self.age = a\n",
        "    print(self.name,\"is\",self.age,\"Years Old\",self.gender)"
      ],
      "metadata": {
        "id": "-oGdFBuwytRu"
      },
      "execution_count": null,
      "outputs": []
    },
    {
      "cell_type": "code",
      "source": [
        "alice = Person(\"Alice\",25,\"Female\")"
      ],
      "metadata": {
        "id": "t0-HUdieAcww"
      },
      "execution_count": null,
      "outputs": []
    },
    {
      "cell_type": "code",
      "source": [
        "alice.update_age(30)"
      ],
      "metadata": {
        "colab": {
          "base_uri": "https://localhost:8080/"
        },
        "id": "W0uLQiNdAlxS",
        "outputId": "7e5c2665-41d7-4479-ef4e-71776c5f67c9"
      },
      "execution_count": null,
      "outputs": [
        {
          "output_type": "stream",
          "name": "stdout",
          "text": [
            "Alice is 30 Years Old Female\n"
          ]
        }
      ]
    },
    {
      "cell_type": "code",
      "source": [
        "# Question 10: Create a class named BankAccount with attributes account_number, account_holder, and balance.\n",
        "# Include methods to deposit and withdraw money, and to display the account details.\n",
        "# Create two instances of the BankAccount class, one for savings account and one for checking account, and perform deposit and withdrawal operations on each.\n",
        "\n",
        "class Bank_Account :\n",
        "  def __init__(self,acc_number,name,balance):\n",
        "    self.acnumber = acc_number\n",
        "    self.name = name\n",
        "    self.balance = balance\n",
        "\n",
        "  def deposit(self,amount):\n",
        "    self.balance += amount\n",
        "\n",
        "  def withdraw(self,amount):\n",
        "    if self.balance < amount or self.balance == 0:\n",
        "      print(\"Insufficient Balance\")\n",
        "    else:\n",
        "      self.balance -= amount\n",
        "\n",
        "  def checkbalance(self):\n",
        "    print(\"The Balance of\",self.name,\"is\",self.balance)\n",
        "\n",
        "\n"
      ],
      "metadata": {
        "id": "mC7AOCM6ApCi"
      },
      "execution_count": null,
      "outputs": []
    },
    {
      "cell_type": "code",
      "source": [
        "checking = Bank_Account(21002170410020,\"Meetraj\",50000)"
      ],
      "metadata": {
        "id": "bGYgRPorC-5-"
      },
      "execution_count": null,
      "outputs": []
    },
    {
      "cell_type": "code",
      "source": [
        "checking.deposit(4000)"
      ],
      "metadata": {
        "id": "uqVKdjMwDQGA"
      },
      "execution_count": null,
      "outputs": []
    },
    {
      "cell_type": "code",
      "source": [
        "checking.checkbalance()"
      ],
      "metadata": {
        "colab": {
          "base_uri": "https://localhost:8080/"
        },
        "id": "08_r2YDMDWRy",
        "outputId": "919d24af-328e-4643-cca6-13de776ecb36"
      },
      "execution_count": null,
      "outputs": [
        {
          "output_type": "stream",
          "name": "stdout",
          "text": [
            "The Balance of Meetraj is 54000\n"
          ]
        }
      ]
    },
    {
      "cell_type": "code",
      "source": [
        "saving = Bank_Account(2100234067,\"Rajesh\",70000)"
      ],
      "metadata": {
        "id": "5Ru44VrlDZBj"
      },
      "execution_count": null,
      "outputs": []
    },
    {
      "cell_type": "code",
      "source": [
        "saving.checkbalance()"
      ],
      "metadata": {
        "colab": {
          "base_uri": "https://localhost:8080/"
        },
        "id": "05wC8C6QDiJP",
        "outputId": "1406b7d1-0162-4095-943d-c6d6b3602798"
      },
      "execution_count": null,
      "outputs": [
        {
          "output_type": "stream",
          "name": "stdout",
          "text": [
            "The Balance of Rajesh is 70000\n"
          ]
        }
      ]
    },
    {
      "cell_type": "code",
      "source": [
        "saving.withdraw(25000)"
      ],
      "metadata": {
        "id": "6fonBpgUDnJO"
      },
      "execution_count": null,
      "outputs": []
    },
    {
      "cell_type": "code",
      "source": [
        "saving.checkbalance()"
      ],
      "metadata": {
        "colab": {
          "base_uri": "https://localhost:8080/"
        },
        "id": "hkEMTwoZDsCS",
        "outputId": "92f26c9a-efcd-4524-cda8-371f0a4ffa66"
      },
      "execution_count": null,
      "outputs": [
        {
          "output_type": "stream",
          "name": "stdout",
          "text": [
            "The Balance of Rajesh is 45000\n"
          ]
        }
      ]
    },
    {
      "cell_type": "code",
      "source": [
        "# Question 11: Define a class called Rectangle with attributes length and width.\n",
        "# Include methods to calculate the area and perimeter of the rectangle, and to display its dimensions.\n",
        "# Create an instance of the Rectangle class with length 4 and width 5, then print its area, perimeter, and dimensions.\n",
        "\n",
        "class Rectangle :\n",
        "  def __init__(self,length,width) :\n",
        "    self.length = length\n",
        "    self.width = width\n",
        "\n",
        "  def area(self):\n",
        "    are = self.length*self.width\n",
        "    print(\"Area of The Given Rectangle with Length\",self.length,\"and Width\",self.width,\"is\",are,\"square units.\")\n",
        "\n",
        "  def per(self):\n",
        "    peri = 2*(self.length+self.width)\n",
        "    print(\"Perimeter of The Given Rectangle with Length\",self.length,\"and Width\",self.width,\"is\",peri,\"units.\")\n"
      ],
      "metadata": {
        "id": "-JkOD_ghDukw"
      },
      "execution_count": null,
      "outputs": []
    },
    {
      "cell_type": "code",
      "source": [
        "rectangle = Rectangle(10,20)"
      ],
      "metadata": {
        "id": "L6_AYtX5PQR9"
      },
      "execution_count": null,
      "outputs": []
    },
    {
      "cell_type": "code",
      "source": [
        "rectangle.area()"
      ],
      "metadata": {
        "colab": {
          "base_uri": "https://localhost:8080/"
        },
        "id": "oik3u8D6PbBl",
        "outputId": "007a80f9-a06a-4c02-9aa6-76e1087d2aa3"
      },
      "execution_count": null,
      "outputs": [
        {
          "output_type": "stream",
          "name": "stdout",
          "text": [
            "Area of The Given Rectangle with Length 10 and Width 20 is 200 square units.\n"
          ]
        }
      ]
    },
    {
      "cell_type": "code",
      "source": [
        "rectangle.per()"
      ],
      "metadata": {
        "colab": {
          "base_uri": "https://localhost:8080/"
        },
        "id": "ssrFPxsuPdLh",
        "outputId": "fb2e525f-f2ba-4432-f510-62c24879b55a"
      },
      "execution_count": null,
      "outputs": [
        {
          "output_type": "stream",
          "name": "stdout",
          "text": [
            "Perimeter of The Given Rectangle with Length 10 and Width 20 is 60 units.\n"
          ]
        }
      ]
    },
    {
      "cell_type": "code",
      "source": [
        "# Question 12: Create a class named Student with attributes name, roll_number, and grades.\n",
        "# Include methods to add grades, calculate the average grade, and display the student's information.\n",
        "# Create an instance of the Student class with name \"John\", roll number \"12345\", and grades [85, 90, 88].\n",
        "# Add another grade (95), calculate the average grade, and display the student's information.\n",
        "\n",
        "class Student :\n",
        "  def __init__(self,name,rollnum,grades):\n",
        "    self.name = name\n",
        "    self.roll = rollnum\n",
        "    self.grades = grades\n",
        "  def add_grade(self,mark):\n",
        "    self.grades.append(mark)\n",
        "  def average(self):\n",
        "    sum = 0\n",
        "    c=0\n",
        "    for i in self.grades:\n",
        "      sum += i\n",
        "      c += 1\n",
        "    aver = sum/c\n",
        "    print(\"Student\",self.name,self.roll,\"With Grades\",self.grades,\"averaeg\",aver)\n"
      ],
      "metadata": {
        "id": "b-Qlw-moPf_-"
      },
      "execution_count": null,
      "outputs": []
    },
    {
      "cell_type": "code",
      "source": [
        "john = Student(\"John\",12345,[85,90,88])"
      ],
      "metadata": {
        "id": "o1uEL7pCPx09"
      },
      "execution_count": null,
      "outputs": []
    },
    {
      "cell_type": "code",
      "source": [
        "john.average()"
      ],
      "metadata": {
        "colab": {
          "base_uri": "https://localhost:8080/"
        },
        "id": "gN3DmSAdTdTT",
        "outputId": "76ce6bf5-36de-41ed-af10-51dd53d95d3b"
      },
      "execution_count": null,
      "outputs": [
        {
          "output_type": "stream",
          "name": "stdout",
          "text": [
            "Student John 12345 With Grades [85, 90, 88] averaeg 87.66666666666667\n"
          ]
        }
      ]
    },
    {
      "cell_type": "code",
      "source": [
        "john.add_grade(95)"
      ],
      "metadata": {
        "id": "eT8mEaAYTiJx"
      },
      "execution_count": null,
      "outputs": []
    },
    {
      "cell_type": "code",
      "source": [
        "john.average()"
      ],
      "metadata": {
        "colab": {
          "base_uri": "https://localhost:8080/"
        },
        "id": "6aL5DF9RUFXx",
        "outputId": "375567e5-7436-443f-b866-72189930e509"
      },
      "execution_count": null,
      "outputs": [
        {
          "output_type": "stream",
          "name": "stdout",
          "text": [
            "Student John 12345 With Grades [85, 90, 88, 95] averaeg 89.5\n"
          ]
        }
      ]
    },
    {
      "cell_type": "code",
      "source": [
        "# Question 13: Define a class called Triangle with attributes side1, side2, and side3.\n",
        "# Include methods to check if the triangle is valid, calculate its perimeter, area, and display its sides.\n",
        "# Create an instance of the Triangle class with side lengths 3, 4, and 5, then check if it is valid, calculate its perimeter and area, and display its sides.\n",
        "\n",
        "class Triangle :\n",
        "  def __init__(self,side1,side2,side3):\n",
        "    self.s1 = side1\n",
        "    self.s2 = side2\n",
        "    self.s3 = side3\n",
        "\n",
        "  def valid(self):\n",
        "    if ((self.s1 + self.s2) > self.s3) and ((self.s2 + self.s3) > self.s1) and ((self.s1 + self.s3) > self.s2) :\n",
        "      print(\"Triangle is Valid\")\n",
        "    else :\n",
        "      print(\"Triangle is Invalid\")\n",
        "\n",
        "  def per(self) :\n",
        "    per = self.s1 + self.s2 + self.s3\n",
        "    print(\"Perimeter of the given triangle is\",per,\"units.\")\n",
        "\n",
        "  def area(self) :\n",
        "    s = (self.s1 + self.s2 + self.s3)/2\n",
        "    area = (s*(s-self.s1)*(s-self.s2)*(s-self.s3))**0.5\n",
        "    print(\"Area of the given triangle is\",area,\"square units.\")\n",
        "\n",
        "  def display(self) :\n",
        "    print(\"Sides of the given triangle are\",self.s1,\"units,\",self.s2,\"units and\",self.s3,\"units.\")"
      ],
      "metadata": {
        "id": "x71wnfvIUMgw"
      },
      "execution_count": null,
      "outputs": []
    },
    {
      "cell_type": "code",
      "source": [
        "tri = Triangle(3,4,5)"
      ],
      "metadata": {
        "id": "lFy9uWo6tbqp"
      },
      "execution_count": null,
      "outputs": []
    },
    {
      "cell_type": "code",
      "source": [
        "tri.valid()"
      ],
      "metadata": {
        "colab": {
          "base_uri": "https://localhost:8080/"
        },
        "id": "8W2hfRmbteRY",
        "outputId": "d9435416-3d61-4e63-9c5b-565f2a0b1e64"
      },
      "execution_count": null,
      "outputs": [
        {
          "output_type": "stream",
          "name": "stdout",
          "text": [
            "Triangle is Valid\n"
          ]
        }
      ]
    },
    {
      "cell_type": "code",
      "source": [
        "tri.per()"
      ],
      "metadata": {
        "colab": {
          "base_uri": "https://localhost:8080/"
        },
        "id": "qruE4vL4ue-E",
        "outputId": "e808caa0-191b-44d0-dfe8-f44e40bcf34e"
      },
      "execution_count": null,
      "outputs": [
        {
          "output_type": "stream",
          "name": "stdout",
          "text": [
            "Perimeter of the given triangle is 12 units.\n"
          ]
        }
      ]
    },
    {
      "cell_type": "code",
      "source": [
        "tri.area()"
      ],
      "metadata": {
        "colab": {
          "base_uri": "https://localhost:8080/"
        },
        "id": "NCo-R0RGuhGI",
        "outputId": "40543ba5-f159-405e-bf7a-4d423f6caeed"
      },
      "execution_count": null,
      "outputs": [
        {
          "output_type": "stream",
          "name": "stdout",
          "text": [
            "Area of the given triangle is 6.0 square units.\n"
          ]
        }
      ]
    },
    {
      "cell_type": "code",
      "source": [
        "tri.display()"
      ],
      "metadata": {
        "colab": {
          "base_uri": "https://localhost:8080/"
        },
        "id": "xu5PFqz6uiy-",
        "outputId": "c15085f4-7cfb-451b-efc1-04d496bd8034"
      },
      "execution_count": null,
      "outputs": [
        {
          "output_type": "stream",
          "name": "stdout",
          "text": [
            "Sides of the given triangle are 3 units, 4 units and 5 units.\n"
          ]
        }
      ]
    },
    {
      "cell_type": "code",
      "source": [],
      "metadata": {
        "id": "A9vMQFwQukvv"
      },
      "execution_count": null,
      "outputs": []
    }
  ]
}