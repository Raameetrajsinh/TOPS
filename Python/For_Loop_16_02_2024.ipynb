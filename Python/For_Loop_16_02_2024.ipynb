{
  "nbformat": 4,
  "nbformat_minor": 0,
  "metadata": {
    "colab": {
      "provenance": []
    },
    "kernelspec": {
      "name": "python3",
      "display_name": "Python 3"
    },
    "language_info": {
      "name": "python"
    }
  },
  "cells": [
    {
      "cell_type": "markdown",
      "source": [
        "1.\tGiven a list [4, 8, 2, 10, 6], find the maximum number using a for loop.\n",
        "2.\tTake input from the user and find the factorial of the number using a for loop.\n",
        "3.\tGiven a list ['apple', 'banana', 'cherry', 'date', 'fig'], print each element along with its index using a for loop.\n",
        "4.\tTake a string input from the user and count the number of uppercase letters using a for loop.(use char.isupper()😊)\n",
        "5.\tGiven a list of integers [17, 25, 39, 42, 58, 71, 86, 93], find the sum of all the even numbers using a for loop.\n",
        "6.\tGiven a list [3, 6, 9, 12, 15], calculate the product of all the elements using a for loop.\n",
        "7.\tGiven a list [2, 3, 5, 7, 11, 13, 17, 19], find the index of the first occurrence of the number 7 using a for loop."
      ],
      "metadata": {
        "id": "_xkFVWH5sKKd"
      }
    },
    {
      "cell_type": "code",
      "execution_count": null,
      "metadata": {
        "colab": {
          "base_uri": "https://localhost:8080/"
        },
        "id": "mVUMzU_hsDWi",
        "outputId": "5292a1a7-2434-4a59-ad1b-583d48ff224f"
      },
      "outputs": [
        {
          "output_type": "stream",
          "name": "stdout",
          "text": [
            "Maximum Number is 10\n"
          ]
        }
      ],
      "source": [
        "# 1. Given a list [4, 8, 2, 10, 6], find the maximum number using a for loop.\n",
        "list1 = [4, 8, 2, 10, 6]\n",
        "gt=0\n",
        "for i in list1:\n",
        "  if i > gt:\n",
        "    gt = i\n",
        "\n",
        "print(\"Maximum Number is\",gt)"
      ]
    },
    {
      "cell_type": "code",
      "source": [
        "# 2. Take input from the user and find the factorial of the number using a for loop.\n",
        "n2 = int(input(\"Enter Number : \"))\n",
        "fact =1\n",
        "for i in range(1,n2+1):\n",
        "  fact = i*fact\n",
        "\n",
        "print(\"Factorial of\",n2,\"is\",fact)"
      ],
      "metadata": {
        "colab": {
          "base_uri": "https://localhost:8080/"
        },
        "id": "AbqTuIxgswV9",
        "outputId": "53f8d7ee-6d4b-4538-dedd-554d3e403463"
      },
      "execution_count": null,
      "outputs": [
        {
          "output_type": "stream",
          "name": "stdout",
          "text": [
            "Enter Number : 10\n",
            "Factorial of 10 is 3628800\n"
          ]
        }
      ]
    },
    {
      "cell_type": "code",
      "source": [
        "# 3. Given a list ['apple', 'banana', 'cherry', 'date', 'fig'], print each element along with its index using a for loop.\n",
        "list3= ['apple', 'banana', 'cherry', 'date', 'fig']\n",
        "for i,f in enumerate(list3):\n",
        "  print(\"Index is\",i,\"Fruit is\",f)"
      ],
      "metadata": {
        "colab": {
          "base_uri": "https://localhost:8080/"
        },
        "id": "HY1kxlmLuKMN",
        "outputId": "ff301a27-1b18-4516-e51c-d565412ea5f8"
      },
      "execution_count": null,
      "outputs": [
        {
          "output_type": "stream",
          "name": "stdout",
          "text": [
            "Index is 0 Fruit is apple\n",
            "Index is 1 Fruit is banana\n",
            "Index is 2 Fruit is cherry\n",
            "Index is 3 Fruit is date\n",
            "Index is 4 Fruit is fig\n"
          ]
        }
      ]
    },
    {
      "cell_type": "code",
      "source": [
        "# 4. Take a string input from the user and count the number of uppercase letters using a for loop.(use char.isupper()😊)\n",
        "string4 = input(\"Enter String\")\n",
        "count=0\n",
        "for char in string4 :\n",
        "  if char.isupper():\n",
        "    count+=1\n",
        "\n",
        "print(\"Count is\",count)"
      ],
      "metadata": {
        "colab": {
          "base_uri": "https://localhost:8080/"
        },
        "id": "11In0mX1upVs",
        "outputId": "9c4f60a7-a250-45b5-b662-5ed97a782760"
      },
      "execution_count": null,
      "outputs": [
        {
          "output_type": "stream",
          "name": "stdout",
          "text": [
            "Enter StringMeetrajSinhG\n",
            "Count is 3\n"
          ]
        }
      ]
    },
    {
      "cell_type": "code",
      "source": [
        "# 5. Given a list of integers [17, 25, 39, 42, 58, 71, 86, 93], find the sum of all the even numbers using a for loop.\n",
        "list5 = [17, 25, 39, 42, 58, 71, 86, 93]\n",
        "sum = 0\n",
        "for i in list5:\n",
        "  if i%2 ==0 :\n",
        "    sum+=i\n",
        "print(\"Sum is\",sum)"
      ],
      "metadata": {
        "colab": {
          "base_uri": "https://localhost:8080/"
        },
        "id": "0GHm0sDBvGji",
        "outputId": "f77adf28-0bef-4f40-c544-0b21f7542168"
      },
      "execution_count": null,
      "outputs": [
        {
          "output_type": "stream",
          "name": "stdout",
          "text": [
            "Sum is 186\n"
          ]
        }
      ]
    },
    {
      "cell_type": "code",
      "source": [
        "# 6. Given a list [3, 6, 9, 12, 15], calculate the product of all the elements using a for loop.\n",
        "list6 = [3, 6, 9, 12, 15]\n",
        "product = 1\n",
        "for i in list6:\n",
        "  product *= i\n",
        "print(\"Product is\",product)"
      ],
      "metadata": {
        "colab": {
          "base_uri": "https://localhost:8080/"
        },
        "id": "1dENDFXxviO9",
        "outputId": "57def337-9e07-40b0-b650-4e514df416e5"
      },
      "execution_count": null,
      "outputs": [
        {
          "output_type": "stream",
          "name": "stdout",
          "text": [
            "Product is 29160\n"
          ]
        }
      ]
    },
    {
      "cell_type": "code",
      "source": [
        "# 7.Given a list [2, 3, 5, 7, 11, 13, 17, 19], find the index of the first occurrence of the number 7 using a for loop.\n",
        "list7 = [2, 3, 5, 7, 11, 13, 17, 19]\n",
        "for i,n in enumerate(list7):\n",
        "  if n == 7:\n",
        "    break\n",
        "print(\"First Occurence of\",n,\"is at\",i)"
      ],
      "metadata": {
        "colab": {
          "base_uri": "https://localhost:8080/"
        },
        "id": "JyS1kjcnwYfx",
        "outputId": "67be27c1-4ed8-4874-9873-66ab36562160"
      },
      "execution_count": null,
      "outputs": [
        {
          "output_type": "stream",
          "name": "stdout",
          "text": [
            "First Occurence of 7 is at 3\n"
          ]
        }
      ]
    },
    {
      "cell_type": "code",
      "source": [],
      "metadata": {
        "id": "QuOzHvHfwx-L"
      },
      "execution_count": null,
      "outputs": []
    }
  ]
}