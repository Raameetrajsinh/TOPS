{
  "nbformat": 4,
  "nbformat_minor": 0,
  "metadata": {
    "colab": {
      "provenance": []
    },
    "kernelspec": {
      "name": "python3",
      "display_name": "Python 3"
    },
    "language_info": {
      "name": "python"
    }
  },
  "cells": [
    {
      "cell_type": "markdown",
      "source": [
        "1.\tWrite a Python program to take two numbers as input from the user and display their sum.\n",
        "2.\tCalculate and print the midpoint of two numbers entered by the user.\n",
        "3.\tWrite a Python program to calculate the area of a triangle using the formula: area = 0.5 * base * height.\n",
        "4.\tTake three numbers as input from the user and display their product.\n",
        "5.\tTake a number as input and display its square and cube.\n",
        "6.\tTake two numbers as input and display their quotient and remainder.\n",
        "7.\tTake three numbers as input and display their average.\n",
        "8.\tWrite a Python program to calculate the area of a rectangle using the formula: area = length * width.\n",
        "9.\tTake five numbers as input representing marks obtained and total marks.\n",
        "Display the percentage."
      ],
      "metadata": {
        "id": "HitVQuEAjQfV"
      }
    },
    {
      "cell_type": "code",
      "source": [
        "# 1. Write a Python program to take two numbers as input from the user and display their sum.\n",
        "num1=int(input(\"Enter Number 1 : \"))\n",
        "num2=int(input(\"Enter Number 2 : \"))\n",
        "sum = num1+num2\n",
        "print(\"Sum =\",sum)"
      ],
      "metadata": {
        "colab": {
          "base_uri": "https://localhost:8080/"
        },
        "id": "wrW4ZLYCjSio",
        "outputId": "f4848a57-3988-4c83-caa9-4f1e79b62b5e"
      },
      "execution_count": null,
      "outputs": [
        {
          "output_type": "stream",
          "name": "stdout",
          "text": [
            "Enter Number 1 : 10\n",
            "Enter Number 2 : 12\n",
            "Sum = 22\n"
          ]
        }
      ]
    },
    {
      "cell_type": "code",
      "source": [
        "# 2. Calculate and print the midpoint of two numbers entered by the user.\n",
        "num1=int(input(\"Enter Number 1 : \"))\n",
        "num2=int(input(\"Enter Number 2 : \"))\n",
        "sum = num1+num2\n",
        "midpoint = sum/2\n",
        "print(\"Midpoint of\",num1,\"and\",num2,\"is\", midpoint)\n"
      ],
      "metadata": {
        "colab": {
          "base_uri": "https://localhost:8080/"
        },
        "id": "-IHK6cZwj9oR",
        "outputId": "7f7d0a3e-6400-41ad-836a-5a6de55e9f69"
      },
      "execution_count": null,
      "outputs": [
        {
          "output_type": "stream",
          "name": "stdout",
          "text": [
            "Enter Number 1 : 10\n",
            "Enter Number 2 : 20\n",
            "Midpoint of 10 and 20 is 15.0\n"
          ]
        }
      ]
    },
    {
      "cell_type": "code",
      "source": [
        "# 3. Write a Python program to calculate the area of a triangle using the formula: area = 0.5 * base * height.\n",
        "base=int(input(\"Enter Base : \"))\n",
        "height=int(input(\"Enter Height : \"))\n",
        "area=0.5*base*height\n",
        "print(\"Area of triangle is\",area)"
      ],
      "metadata": {
        "colab": {
          "base_uri": "https://localhost:8080/"
        },
        "id": "ksMYCQ4ilFo4",
        "outputId": "d5dc1cf4-e5c8-45b2-aab4-28f465d79c53"
      },
      "execution_count": null,
      "outputs": [
        {
          "output_type": "stream",
          "name": "stdout",
          "text": [
            "Enter Base : 12\n",
            "Enter Height : 6\n",
            "Area of triangle is 36.0\n"
          ]
        }
      ]
    },
    {
      "cell_type": "code",
      "source": [
        "# 4. Take three numbers as input from the user and display their product.\n",
        "num1=int(input(\"Enter Number 1 : \"))\n",
        "num2=int(input(\"Enter Number 2 : \"))\n",
        "num3=int(input(\"Enter Number 3 : \"))\n",
        "product=num1*num2*num3\n",
        "print(\"Product is\",product)\n"
      ],
      "metadata": {
        "colab": {
          "base_uri": "https://localhost:8080/"
        },
        "id": "_YfzYcGbmAcx",
        "outputId": "aa7a9783-f8b1-45ed-847c-e0786cc895e5"
      },
      "execution_count": null,
      "outputs": [
        {
          "output_type": "stream",
          "name": "stdout",
          "text": [
            "Enter Number 1 : 2\n",
            "Enter Number 2 : 6\n",
            "Enter Number 3 : 7\n",
            "Product is 84\n"
          ]
        }
      ]
    },
    {
      "cell_type": "code",
      "source": [
        "# 5. Take a number as input and display its square and cube.\n",
        "num=int(input(\"Enter Number : \"))\n",
        "square= num**2\n",
        "cube=num**3\n",
        "print(\"Square is\",square)\n",
        "print(\"Cube is\",cube)"
      ],
      "metadata": {
        "colab": {
          "base_uri": "https://localhost:8080/"
        },
        "id": "BRZPfEt6mdFC",
        "outputId": "beeb48fa-dbcb-4d60-989b-cba411250e05"
      },
      "execution_count": null,
      "outputs": [
        {
          "output_type": "stream",
          "name": "stdout",
          "text": [
            "Enter Number : 5\n",
            "Square is 25\n",
            "Cube is 125\n"
          ]
        }
      ]
    },
    {
      "cell_type": "code",
      "source": [
        "# 6. Take two numbers as input and display their quotient and remainder.\n",
        "num1=int(input(\"Enter Number 1 : \"))\n",
        "num2=int(input(\"Enter Number 2 : \"))\n",
        "quotient= num1//num2\n",
        "remainder = num1%num2\n",
        "print(\"Quotient is\",quotient)\n",
        "print(\"Remainder is\",remainder)"
      ],
      "metadata": {
        "colab": {
          "base_uri": "https://localhost:8080/"
        },
        "id": "EPvRrMdxm7sm",
        "outputId": "08d5aba6-8579-46e2-dc79-620b19f5e8be"
      },
      "execution_count": null,
      "outputs": [
        {
          "output_type": "stream",
          "name": "stdout",
          "text": [
            "Enter Number 1 : 8\n",
            "Enter Number 2 : 3\n",
            "Quotient is 2\n",
            "Remainder is 2\n"
          ]
        }
      ]
    },
    {
      "cell_type": "code",
      "source": [
        "# 7. Take three numbers as input and display their average.\n",
        "num1=int(input(\"Enter Number 1 : \"))\n",
        "num2=int(input(\"Enter Number 2 : \"))\n",
        "num3=int(input(\"Enter Number 3 : \"))\n",
        "sum = num1+num2+num3\n",
        "average = sum/3\n",
        "print(\"Average is\",average)"
      ],
      "metadata": {
        "colab": {
          "base_uri": "https://localhost:8080/"
        },
        "id": "tEnXw42UnhGV",
        "outputId": "aeaff514-1f58-4852-ec3b-ee4723c97a6c"
      },
      "execution_count": null,
      "outputs": [
        {
          "output_type": "stream",
          "name": "stdout",
          "text": [
            "Enter Number 1 : 5\n",
            "Enter Number 2 : 7\n",
            "Enter Number 3 : 9\n",
            "Average is 7.0\n"
          ]
        }
      ]
    },
    {
      "cell_type": "code",
      "source": [
        "# 8. Write a Python program to calculate the area of a rectangle using the formula: area = length * width.\n",
        "length=int(input(\"Enter Length : \"))\n",
        "width=int(input(\"Enter Width : \"))\n",
        "area = length*width\n",
        "print(\"Area of the Rectangle is\",area)"
      ],
      "metadata": {
        "colab": {
          "base_uri": "https://localhost:8080/"
        },
        "id": "ynH0ovp9n45O",
        "outputId": "311f8536-3e3c-4ee9-faaf-6df10fff293e"
      },
      "execution_count": null,
      "outputs": [
        {
          "output_type": "stream",
          "name": "stdout",
          "text": [
            "Enter Length : 6\n",
            "Enter Width : 13\n",
            "Area of the Rectangle is 78\n"
          ]
        }
      ]
    },
    {
      "cell_type": "code",
      "source": [
        "# 9. Take five numbers as input representing marks obtained and total marks. Display the percentage.\n",
        "sub1=int(input(\"Enter Marks of Subject 1 : \"))\n",
        "sub2=int(input(\"Enter Marks of Subject 2 : \"))\n",
        "sub3=int(input(\"Enter Marks of Subject 3 : \"))\n",
        "sub4=int(input(\"Enter Marks of Subject 4 : \"))\n",
        "sub5=int(input(\"Enter Marks of Subject 5 : \"))\n",
        "total_marks= sub1+sub2+sub3+sub4+sub5\n",
        "percentage=total_marks/5\n",
        "print(\"Total marks obtained is\",total_marks)\n",
        "print(\"Percentage is\",percentage,\"%\")"
      ],
      "metadata": {
        "colab": {
          "base_uri": "https://localhost:8080/"
        },
        "id": "E8avj4vcocIi",
        "outputId": "83ffc297-b435-48cf-f941-08e4f7ff5a8e"
      },
      "execution_count": null,
      "outputs": [
        {
          "output_type": "stream",
          "name": "stdout",
          "text": [
            "Enter Marks of Subject 1 : 92\n",
            "Enter Marks of Subject 2 : 96\n",
            "Enter Marks of Subject 3 : 87\n",
            "Enter Marks of Subject 4 : 89\n",
            "Enter Marks of Subject 5 : 82\n",
            "Total marks obtained is 446\n",
            "Percentage is 89.2 %\n"
          ]
        }
      ]
    },
    {
      "cell_type": "code",
      "source": [],
      "metadata": {
        "id": "qEg7Zq1vpqsh"
      },
      "execution_count": null,
      "outputs": []
    }
  ]
}