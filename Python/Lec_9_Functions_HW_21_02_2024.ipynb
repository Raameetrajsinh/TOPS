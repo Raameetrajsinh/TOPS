{
  "nbformat": 4,
  "nbformat_minor": 0,
  "metadata": {
    "colab": {
      "provenance": []
    },
    "kernelspec": {
      "name": "python3",
      "display_name": "Python 3"
    },
    "language_info": {
      "name": "python"
    }
  },
  "cells": [
    {
      "cell_type": "markdown",
      "source": [
        "1- Write a function that calculates the area of a rectangle given its length and width.\n",
        "\n",
        "Description: Create a function that takes two parameters, length and width, and returns the area of the rectangle calculated using the formula: area = length * width.\n",
        "\n",
        "2- Create a function that converts temperature from Celsius to Fahrenheit.\n",
        "\n",
        "Description: Define a function that accepts a temperature value in Celsius and returns its equivalent in Fahrenheit using the conversion formula: Fahrenheit = (Celsius * 9/5) + 32.\n",
        "\n",
        "3- Write a function to find the factorial of a number.\n",
        "\n",
        "Description: Implement a function that computes the factorial of a given number using recursion or iteration.\n",
        "\n",
        "4- Design a function to check if a given number is prime.\n",
        "\n",
        "Description: Develop a function that determines whether a given number is prime or not. A prime number is a natural number greater than 1 that has no positive divisors other than 1 and itself.\n",
        "\n",
        "5- Create a function that reverses a given string.\n",
        "\n",
        "Description: Define a function that takes a string as input and returns its reverse. For example, \"hello\" should be returned as \"olleh\".\n",
        "\n",
        "6- Write a function to compute the nth Fibonacci number.\n",
        "\n",
        "Description: Implement a function that returns the nth Fibonacci number, where Fibonacci sequence starts with 0 and 1, and each subsequent number is the sum of the previous two.\n",
        "\n",
        "7- Create a function to find the largest element in a list.\n",
        "\n",
        "Description: Develop a function that takes a list of numbers as input and returns the largest element present in the list.\n",
        "\n",
        "8- Design a function to count the number of vowels in a string.\n",
        "\n",
        "Description: Define a function that counts and returns the number of vowels (a, e, i, o, u) present in a given string.\n",
        "\n",
        "9- Write a function to calculate the factorial of each number in a given list.\n",
        "\n",
        "Description: Create a function that accepts a list of numbers as input and returns a new list containing the factorial of each number in the original list.\n",
        "\n",
        "10- Create a function to check if a string is a palindrome.\n",
        "\n",
        "Description: Implement a function that checks whether a given string is a palindrome or not. A palindrome is a string that reads the same forwards and backwards."
      ],
      "metadata": {
        "id": "KTbar9E7TIE5"
      }
    },
    {
      "cell_type": "code",
      "execution_count": null,
      "metadata": {
        "id": "WsumuUA9TAs9"
      },
      "outputs": [],
      "source": [
        "# 1- Write a function that calculates the area of a rectangle given its length and width. Description: Create a function that takes two parameters, length and width, and\n",
        "# returns the area of the rectangle calculated using the formula: area = length * width.\n",
        "def area(l,b):\n",
        "  a = l*b\n",
        "  print(\"Area of the rectangle with Length\",l,\" and Breadth\",b,\"is\", a,\"square units.\" )"
      ]
    },
    {
      "cell_type": "code",
      "source": [
        "length = int(input(\"Enter Length of the Rectangle : \"))\n",
        "breadth = int(input(\"Enter Breadth of the Rectangle : \"))\n",
        "area(length,breadth)"
      ],
      "metadata": {
        "colab": {
          "base_uri": "https://localhost:8080/"
        },
        "id": "AG2cn7OyUnG2",
        "outputId": "700ec0d1-09ba-41da-c6c5-4b65654dce79"
      },
      "execution_count": null,
      "outputs": [
        {
          "output_type": "stream",
          "name": "stdout",
          "text": [
            "Enter Length of the Rectangle : 12\n",
            "Enter Breadth of the Rectangle : 9\n",
            "Area of the rectangle with width 12  and breadth 9 is 108 square units.\n"
          ]
        }
      ]
    },
    {
      "cell_type": "code",
      "source": [
        "# 2- Create a function that converts temperature from Celsius to Fahrenheit. Description: Define a function that accepts a temperature value in Celsius and\n",
        "# returns its equivalent in Fahrenheit using the conversion formula: Fahrenheit = (Celsius * 9/5) + 32.\n",
        "def change_temperature(c_value):\n",
        "  f_value = ((c_value*9)/5)+32\n",
        "  print(c_value,\"Celsius is equal to\",f_value,\"Farenheit.\")\n"
      ],
      "metadata": {
        "id": "-_POFRJmWD6O"
      },
      "execution_count": null,
      "outputs": []
    },
    {
      "cell_type": "code",
      "source": [
        "temp = int(input(\"Enter Temperature in Celsius :\"))\n",
        "change_temperature(temp)"
      ],
      "metadata": {
        "colab": {
          "base_uri": "https://localhost:8080/"
        },
        "id": "5VfyDfY9XglB",
        "outputId": "df15b54f-9aa8-4064-8faf-e5e9c07a186b"
      },
      "execution_count": null,
      "outputs": [
        {
          "output_type": "stream",
          "name": "stdout",
          "text": [
            "Enter Temperature in Celsius :25\n",
            "25 Celsius is equal to 77.0 Farenheit.\n"
          ]
        }
      ]
    },
    {
      "cell_type": "code",
      "source": [
        "# 3- Write a function to find the factorial of a number. Description: Implement a function that computes the factorial of a given number using recursion or iteration.\n",
        "def factorial(n):\n",
        "  if n != 1:\n",
        "    return n * factorial(n-1)\n",
        "  else :\n",
        "    return 1"
      ],
      "metadata": {
        "id": "w_4ftAA5Xtn9"
      },
      "execution_count": null,
      "outputs": []
    },
    {
      "cell_type": "code",
      "source": [
        "num3 = int(input(\"Enter Number :\"))\n",
        "print(\"Factorial of\",num3,\"is\",factorial(num3))"
      ],
      "metadata": {
        "colab": {
          "base_uri": "https://localhost:8080/"
        },
        "id": "sJqrZ7o6YiMr",
        "outputId": "9c35f3d9-6a91-4908-bb9f-0e2ced3ee1d6"
      },
      "execution_count": null,
      "outputs": [
        {
          "output_type": "stream",
          "name": "stdout",
          "text": [
            "Enter Number :10\n",
            "Factorial of 10 is 3628800\n"
          ]
        }
      ]
    },
    {
      "cell_type": "code",
      "source": [
        "# 4- Design a function to check if a given number is prime. Description: Develop a function that determines whether a given number is prime or not.\n",
        "# A prime number is a natural number greater than 1 that has no positive divisors other than 1 and itself.\n",
        "\n",
        "def prime_numbers(n):\n",
        "  if n>1:\n",
        "    for i in range (2,n):\n",
        "      if n%i == 0:\n",
        "        return False\n",
        "        break\n",
        "      else :\n",
        "        return True\n",
        "  else:\n",
        "    return False\n"
      ],
      "metadata": {
        "id": "ilFqIv3HYuxD"
      },
      "execution_count": null,
      "outputs": []
    },
    {
      "cell_type": "code",
      "source": [
        "num4 = int(input(\"Enter Number :\"))\n",
        "if prime_numbers(num4):\n",
        "  print(num4,\"is a Prime Number\")\n",
        "else:\n",
        "  print(num4,\"is not a Prime Number\")"
      ],
      "metadata": {
        "colab": {
          "base_uri": "https://localhost:8080/"
        },
        "id": "WfLXDHdAZ4ve",
        "outputId": "e191093e-a306-4f5c-b86a-726b6a82e729"
      },
      "execution_count": null,
      "outputs": [
        {
          "output_type": "stream",
          "name": "stdout",
          "text": [
            "Enter Number :12\n",
            "12 is not a Prime Number\n"
          ]
        }
      ]
    },
    {
      "cell_type": "code",
      "source": [
        "# 5- Create a function that reverses a given string. Description: Define a function that takes a string as input and returns its reverse.\n",
        "# For example, \"hello\" should be returned as \"olleh\".\n",
        "def reverse(s):\n",
        "  rev_s = s[::-1]\n",
        "  print(\"Reverse of\",s,\"is\",rev_s)"
      ],
      "metadata": {
        "id": "yX-mX9qnaFTP"
      },
      "execution_count": null,
      "outputs": []
    },
    {
      "cell_type": "code",
      "source": [
        "string5 = input(\"Enter String : \")\n",
        "reverse(string5)"
      ],
      "metadata": {
        "colab": {
          "base_uri": "https://localhost:8080/"
        },
        "id": "zomU0ZZdbucH",
        "outputId": "fd9c1538-2289-4baa-943d-e06051ffa999"
      },
      "execution_count": null,
      "outputs": [
        {
          "output_type": "stream",
          "name": "stdout",
          "text": [
            "Enter String : meetrajsinh\n",
            "Reverse of meetrajsinh is hnisjarteem\n"
          ]
        }
      ]
    },
    {
      "cell_type": "code",
      "source": [
        "# 6- Write a function to compute the nth Fibonacci number. Description: Implement a function that returns the nth Fibonacci number,\n",
        "# where Fibonacci sequence starts with 0 and 1, and each subsequent number is the sum of the previous two.\n",
        "\n",
        "def fibonacci(n):\n",
        "  a = 0\n",
        "  b = 1\n",
        "  sum = a+b\n",
        "  c = n\n",
        "  while c-2 !=0:\n",
        "    a = b\n",
        "    b = sum\n",
        "    sum = a+b\n",
        "    c = c-1\n",
        "  print(n,\"TH number of Fibonacci Series is\",sum)\n"
      ],
      "metadata": {
        "id": "aL89Ybrrb7V1"
      },
      "execution_count": null,
      "outputs": []
    },
    {
      "cell_type": "code",
      "source": [
        "num6 = int(input(\"Enter Number :\"))\n",
        "fibonacci(num6)"
      ],
      "metadata": {
        "colab": {
          "base_uri": "https://localhost:8080/"
        },
        "id": "a4nlHPtbdGiE",
        "outputId": "6dd9decb-69aa-4a06-e8f7-dd7918395d2c"
      },
      "execution_count": null,
      "outputs": [
        {
          "output_type": "stream",
          "name": "stdout",
          "text": [
            "Enter Number :20\n",
            "20 TH number of Fibonacci Series is 6765\n"
          ]
        }
      ]
    },
    {
      "cell_type": "code",
      "source": [
        "# 7- Create a function to find the largest element in a list. Description: Develop a function that takes a list of numbers as input and\n",
        "# returns the largest element present in the list\n",
        "def largest(li):\n",
        "  print(\"Maximum Number is\",max(li))"
      ],
      "metadata": {
        "id": "jVdXxdArdQgq"
      },
      "execution_count": null,
      "outputs": []
    },
    {
      "cell_type": "code",
      "source": [
        "list7 = [1,3,49,2,22,7]\n",
        "largest(list7)"
      ],
      "metadata": {
        "colab": {
          "base_uri": "https://localhost:8080/"
        },
        "id": "4NvDcDVXex-g",
        "outputId": "d45d4678-6a9e-4e23-92be-725d97870217"
      },
      "execution_count": null,
      "outputs": [
        {
          "output_type": "stream",
          "name": "stdout",
          "text": [
            "Maximum Number is 49\n"
          ]
        }
      ]
    },
    {
      "cell_type": "code",
      "source": [
        "# 8- Design a function to count the number of vowels in a string. Description: Define a function that counts and\n",
        "# returns the number of vowels (a, e, i, o, u) present in a given string.\n",
        "def vowels(s):\n",
        "  count = 0\n",
        "  for i in s:\n",
        "    if i in ['a','e','i','o','u','A','E','I','O','U']:\n",
        "      count = count+1\n",
        "  print(\"The Number of Vowels in the string '\",s,\"' is\",count)"
      ],
      "metadata": {
        "id": "jF6HislZe37U"
      },
      "execution_count": null,
      "outputs": []
    },
    {
      "cell_type": "code",
      "source": [
        "string8 = input(\"Enter String:\")\n",
        "vowels(string8)"
      ],
      "metadata": {
        "colab": {
          "base_uri": "https://localhost:8080/"
        },
        "id": "JnRTqCihfvkO",
        "outputId": "09d87021-e32f-4864-cc0d-57d8cc0d3a52"
      },
      "execution_count": null,
      "outputs": [
        {
          "output_type": "stream",
          "name": "stdout",
          "text": [
            "Enter String:meetrajsinh\n",
            "The Number of Vowels in the string ' meetrajsinh ' is 4\n"
          ]
        }
      ]
    },
    {
      "cell_type": "code",
      "source": [
        "# 9- Write a function to calculate the factorial of each number in a given list. Description: Create a function that accepts a list of numbers as input and\n",
        "# returns a new list containing the factorial of each number in the original list.\n",
        "def factlist(li):\n",
        "  fact_li =[]\n",
        "  for i in li:\n",
        "    fact_li.append(factorial(i))\n",
        "  print(\"Factorial of\",li,\"is\",fact_li)"
      ],
      "metadata": {
        "id": "aiXayrQYf4D7"
      },
      "execution_count": null,
      "outputs": []
    },
    {
      "cell_type": "code",
      "source": [
        "list9 = [1,2,3,5,7,8,10]\n",
        "factlist(list9)"
      ],
      "metadata": {
        "colab": {
          "base_uri": "https://localhost:8080/"
        },
        "id": "jbvQFjrRhI4t",
        "outputId": "8fa2ee56-aa88-41d1-d121-20ec282a0902"
      },
      "execution_count": null,
      "outputs": [
        {
          "output_type": "stream",
          "name": "stdout",
          "text": [
            "Factorial of [1, 2, 3, 5, 7, 8, 10] is [1, 2, 6, 120, 5040, 40320, 3628800]\n"
          ]
        }
      ]
    },
    {
      "cell_type": "code",
      "source": [
        "# 10- Create a function to check if a string is a palindrome. Description: Implement a function that checks whether a given string is a palindrome or not.\n",
        "# A palindrome is a string that reads the same forwards and backwards.\n",
        "def palindrome(s):\n",
        "  if s == s[::-1]:\n",
        "    print(s,\"is a Palindrome.\")\n",
        "  else:\n",
        "    print(s,\"is not a Palindrome.\")"
      ],
      "metadata": {
        "id": "55yuL3DkhSTB"
      },
      "execution_count": null,
      "outputs": []
    },
    {
      "cell_type": "code",
      "source": [
        "string10 = input(\"Enter String :\")\n",
        "palindrome(string10)"
      ],
      "metadata": {
        "colab": {
          "base_uri": "https://localhost:8080/"
        },
        "id": "H1en-Adehnje",
        "outputId": "1905d6d6-6002-4208-db4b-742d5d986632"
      },
      "execution_count": null,
      "outputs": [
        {
          "output_type": "stream",
          "name": "stdout",
          "text": [
            "Enter String :racecar\n",
            "racecar is a Palindrome.\n"
          ]
        }
      ]
    }
  ]
}